{
 "cells": [
  {
   "cell_type": "code",
   "execution_count": 1,
   "id": "7134f7f8-ec30-475d-b709-a30997aecb14",
   "metadata": {},
   "outputs": [],
   "source": [
    "import mysql.connector\n",
    "from random import randint, choice"
   ]
  },
  {
   "cell_type": "code",
   "execution_count": 2,
   "id": "88f164c1-cf0b-41d2-937c-780755c57ad1",
   "metadata": {},
   "outputs": [],
   "source": [
    "# Database configuration and connection\n",
    "\n",
    "db_config = {\n",
    "    'user': 'tournament_user',\n",
    "    'password': 'tournament_pass',\n",
    "    'host': 'localhost',\n",
    "    'database': 'tournament_name'\n",
    "}\n",
    "\n",
    "conn = mysql.connector.connect(**db_config)\n",
    "cursor = conn.cursor()"
   ]
  },
  {
   "cell_type": "code",
   "execution_count": 3,
   "id": "868602e1-e252-4ef1-820b-5b5a97a91e01",
   "metadata": {},
   "outputs": [],
   "source": [
    "# Queries \n",
    "\n",
    "select_clubs_id = \"SELECT id FROM clubs;\" \n",
    "\n",
    "insert_coaches = \"INSERT INTO coaches VALUES(NULL, %s, %s, %s)\"\n",
    "\n",
    "select_random_first_name = 'SELECT first_names.value FROM first_names ORDER BY RAND() LIMIT 1';\n",
    "select_random_last_name = 'SELECT last_names.value FROM last_names ORDER BY RAND() LIMIT 1';"
   ]
  },
  {
   "cell_type": "code",
   "execution_count": 4,
   "id": "e6c8f37c-276a-4456-8f92-6bec06c507a0",
   "metadata": {},
   "outputs": [],
   "source": [
    "# Change databse and reconnect and create a new cursor \n",
    "\n",
    "\n",
    "db_config['database'] = 'tournament'\n",
    "\n",
    "conn2 = mysql.connector.connect(**db_config)\n",
    "cursor2 = conn2.cursor()"
   ]
  },
  {
   "cell_type": "code",
   "execution_count": 5,
   "id": "77b8e64f-eaa0-4242-bbaf-5fd340ada49f",
   "metadata": {},
   "outputs": [],
   "source": [
    "# Create a list of countries to be coach.nationality\n",
    "\n",
    "countries = ['Brazil', 'Chile', 'Argentina', 'Uruguay', 'Portugal', 'Paraguay', 'Colombia', 'Venezuela' ]"
   ]
  },
  {
   "cell_type": "code",
   "execution_count": 6,
   "id": "5cc7202a-b736-44a0-b735-0bf494b1532a",
   "metadata": {},
   "outputs": [],
   "source": [
    "# Select clubs id\n",
    "\n",
    "cursor2.execute(select_clubs_id)\n",
    "clubs = cursor2.fetchall()"
   ]
  },
  {
   "cell_type": "code",
   "execution_count": 7,
   "id": "c5dbb802-f7f4-43cb-b957-bca42094e11c",
   "metadata": {},
   "outputs": [],
   "source": [
    "# Create coaches and insert into the database \n",
    "\n",
    "for c in clubs:\n",
    "    cursor.execute(select_random_first_name) # select a random first name\n",
    "    f = cursor.fetchall()\n",
    "\n",
    "    cursor.execute(select_random_last_name) # select a random last name\n",
    "    l = cursor.fetchall()\n",
    "    \n",
    "    name = ' '.join([f[0][0], l[0][0]]) # define the name    \n",
    "    \n",
    "    nationality = choice(countries) # nationality\n",
    "    \n",
    "    birth = str(randint(1950, 1979)) # birth\n",
    "\n",
    "\n",
    "    cursor2.execute(insert_coaches, [name, nationality, birth])\n",
    "\n",
    "conn2.commit()    "
   ]
  },
  {
   "cell_type": "code",
   "execution_count": 8,
   "id": "099ab61b-764f-4f05-9277-1e91693186c8",
   "metadata": {},
   "outputs": [],
   "source": [
    "conn.close()\n",
    "conn2.close()"
   ]
  }
 ],
 "metadata": {
  "kernelspec": {
   "display_name": "Python 3 (ipykernel)",
   "language": "python",
   "name": "python3"
  },
  "language_info": {
   "codemirror_mode": {
    "name": "ipython",
    "version": 3
   },
   "file_extension": ".py",
   "mimetype": "text/x-python",
   "name": "python",
   "nbconvert_exporter": "python",
   "pygments_lexer": "ipython3",
   "version": "3.10.12"
  }
 },
 "nbformat": 4,
 "nbformat_minor": 5
}
