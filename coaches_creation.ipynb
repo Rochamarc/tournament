{
 "cells": [
  {
   "cell_type": "code",
   "execution_count": 1,
   "id": "7134f7f8-ec30-475d-b709-a30997aecb14",
   "metadata": {},
   "outputs": [],
   "source": [
    "import mysql.connector"
   ]
  },
  {
   "cell_type": "code",
   "execution_count": 2,
   "id": "88f164c1-cf0b-41d2-937c-780755c57ad1",
   "metadata": {},
   "outputs": [],
   "source": [
    "db_config = {\n",
    "    'user': 'tournament_user',\n",
    "    'password': 'tournament_pass',\n",
    "    'host': 'localhost',\n",
    "    'database': 'tournament'\n",
    "}"
   ]
  },
  {
   "cell_type": "code",
   "execution_count": 3,
   "id": "5af30336-a26e-4ce9-84b5-d175929255b3",
   "metadata": {},
   "outputs": [],
   "source": [
    "conn = mysql.connector.connect(**db_config)\n",
    "cursor = conn.cursor()"
   ]
  },
  {
   "cell_type": "code",
   "execution_count": 4,
   "id": "868602e1-e252-4ef1-820b-5b5a97a91e01",
   "metadata": {},
   "outputs": [],
   "source": [
    "select_clubs_id = \"SELECT id FROM clubs;\""
   ]
  },
  {
   "cell_type": "code",
   "execution_count": 5,
   "id": "5cc7202a-b736-44a0-b735-0bf494b1532a",
   "metadata": {},
   "outputs": [],
   "source": [
    "cursor.execute(select_clubs_id)\n",
    "clubs = cursor.fetchall()"
   ]
  },
  {
   "cell_type": "code",
   "execution_count": 7,
   "id": "f045d3c0-fd48-419d-9027-9dd67508255f",
   "metadata": {},
   "outputs": [],
   "source": [
    "insert_coaches = \"INSERT INTO coaches VALUES(NULL, %s, %s, %s)\""
   ]
  },
  {
   "cell_type": "code",
   "execution_count": 8,
   "id": "84900e90-76d8-4385-87a3-9596cdd6df8a",
   "metadata": {},
   "outputs": [],
   "source": [
    "from random import randint, choice"
   ]
  },
  {
   "cell_type": "code",
   "execution_count": 9,
   "id": "e670ca29-32b5-498a-8780-680088391c8e",
   "metadata": {},
   "outputs": [],
   "source": [
    "select_random_first_name = 'SELECT first_names.value FROM first_names ORDER BY RAND() LIMIT 1';\n",
    "select_random_last_name = 'SELECT last_names.value FROM last_names ORDER BY RAND() LIMIT 1';"
   ]
  },
  {
   "cell_type": "code",
   "execution_count": 14,
   "id": "c5dbb802-f7f4-43cb-b957-bca42094e11c",
   "metadata": {},
   "outputs": [],
   "source": [
    "for c in clubs:\n",
    "    cursor.execute(select_random_first_name) # select a random first name\n",
    "    f = cursor.fetchall()\n",
    "\n",
    "    cursor.execute(select_random_last_name) # select a random last name\n",
    "    l = cursor.fetchall()\n",
    "    \n",
    "    name = ' '.join([f[0][0], l[0][0]]) # define the name    \n",
    "    \n",
    "    nationality = choice(['Brazil', 'Chile', 'Argentina', 'Uruguay', 'Portugal', 'Paraguay', 'Colombia', 'Venezuela' ]) # nationality\n",
    "    \n",
    "    birth = str(randint(1950, 1979)) # birth\n",
    "\n",
    "\n",
    "    cursor.execute(insert_coaches, [name, nationality, birth])\n",
    "\n",
    "conn.commit()    "
   ]
  },
  {
   "cell_type": "code",
   "execution_count": 15,
   "id": "099ab61b-764f-4f05-9277-1e91693186c8",
   "metadata": {},
   "outputs": [],
   "source": [
    "conn.close()"
   ]
  }
 ],
 "metadata": {
  "kernelspec": {
   "display_name": "Python 3 (ipykernel)",
   "language": "python",
   "name": "python3"
  },
  "language_info": {
   "codemirror_mode": {
    "name": "ipython",
    "version": 3
   },
   "file_extension": ".py",
   "mimetype": "text/x-python",
   "name": "python",
   "nbconvert_exporter": "python",
   "pygments_lexer": "ipython3",
   "version": "3.10.12"
  }
 },
 "nbformat": 4,
 "nbformat_minor": 5
}
