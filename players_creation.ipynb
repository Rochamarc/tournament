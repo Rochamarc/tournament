{
 "cells": [
  {
   "cell_type": "code",
   "execution_count": 1,
   "id": "b721fa1d-1942-4b57-90e6-25bc1e340d39",
   "metadata": {},
   "outputs": [],
   "source": [
    "import mysql.connector"
   ]
  },
  {
   "cell_type": "code",
   "execution_count": 2,
   "id": "1ba40c73-4ce4-4958-af9a-dd3594ad1635",
   "metadata": {},
   "outputs": [],
   "source": [
    "db_config = {\n",
    "    \"user\": \"tournament_user\",\n",
    "    \"password\": \"tournament_pass\",\n",
    "    \"host\": \"localhost\",\n",
    "    \"database\": \"tournament\"\n",
    "}"
   ]
  },
  {
   "cell_type": "code",
   "execution_count": 3,
   "id": "224f9d56-4386-4172-bfc1-fba079b8b425",
   "metadata": {},
   "outputs": [],
   "source": [
    "select_first_names = \"SELECT first_names.value FROM first_names WHERE first_names.language = 'Portuguese';\"\n",
    "select_last_names = \"SELECT last_names.value FROM last_names WHERE last_names.language = 'Portuguese';\""
   ]
  },
  {
   "cell_type": "code",
   "execution_count": 4,
   "id": "32a4ac00-17a3-4adf-9616-b315f2dd3452",
   "metadata": {},
   "outputs": [],
   "source": [
    "conn = mysql.connector.connect(**db_config)\n",
    "cursor = conn.cursor()"
   ]
  },
  {
   "cell_type": "code",
   "execution_count": 5,
   "id": "b863d021-43a5-45b1-9e59-7da8b9f51f00",
   "metadata": {},
   "outputs": [],
   "source": [
    "cursor.execute(select_first_names)\n",
    "br_first_names = cursor.fetchall()"
   ]
  },
  {
   "cell_type": "code",
   "execution_count": 6,
   "id": "820a24e9-7520-4829-8b62-d468079859c6",
   "metadata": {},
   "outputs": [],
   "source": [
    "cursor.execute(select_last_names)\n",
    "br_last_names = cursor.fetchall()"
   ]
  },
  {
   "cell_type": "code",
   "execution_count": 7,
   "id": "105e865b-133b-4503-b0e2-a71682074384",
   "metadata": {},
   "outputs": [],
   "source": [
    "cursor.execute(select_first_names.replace('Portuguese','Spanish'))\n",
    "g_first_names = cursor.fetchall()"
   ]
  },
  {
   "cell_type": "code",
   "execution_count": 8,
   "id": "7d6f8a3d-7495-46c4-a0fd-55d263dd89be",
   "metadata": {},
   "outputs": [],
   "source": [
    "cursor.execute(select_last_names.replace('Portuguese', 'Spanish'))\n",
    "g_last_names = cursor.fetchall()"
   ]
  },
  {
   "cell_type": "code",
   "execution_count": 9,
   "id": "0a9e5ff9-22e6-43da-ad8b-5bb35d5f5048",
   "metadata": {},
   "outputs": [],
   "source": [
    "select_clubs = \"SELECT id, name FROM clubs;\""
   ]
  },
  {
   "cell_type": "code",
   "execution_count": 10,
   "id": "29322f3e-21b3-4749-afd0-14d14ee1d944",
   "metadata": {},
   "outputs": [],
   "source": [
    "cursor.execute(select_clubs)\n",
    "clubs = cursor.fetchall()"
   ]
  },
  {
   "cell_type": "code",
   "execution_count": 11,
   "id": "c7476ca9-75a6-47ef-a874-d9e00a06aa35",
   "metadata": {
    "scrolled": true
   },
   "outputs": [],
   "source": [
    "#create a list of players\n",
    "\n",
    "from random import choice, randint, uniform\n",
    "\n",
    "insert_contract = \"INSERT INTO player_contracts (start, end, salary, club_id, player_id) VALUES(%s, %s, %s, %s, %s);\"\n",
    "insert_players = \"INSERT INTO players VALUES(NULL, %s, %s, %s, %s, %s, %s, %s);\"\n",
    "select_last_players = \"SELECT id FROM players ORDER BY(id) DESC LIMIT 30;\"\n",
    "\n",
    "for club in clubs:\n",
    "    club_id = club[0]\n",
    "    n_for_player = { 'GK': 3, 'DF': 9, 'MF': 11, 'AT': 7 }\n",
    "\n",
    "    # for position, number_of_players_per_position\n",
    "    for ps, n_ps in n_for_player.items():\n",
    "        # create and insert players into database \n",
    "        gk = ['GK']\n",
    "        df = ['LB', 'RB', 'CB']\n",
    "        mf = ['DM', 'CM', 'RM', 'LM', 'AM' ]\n",
    "        at = ['SS', 'WG', 'CF' ]\n",
    "\n",
    "        for _ in range(n_ps):\n",
    "            if ps == 'GK':\n",
    "                position = 'GK'\n",
    "                height = round(uniform(1.87, 1.99), 2)\n",
    "            elif ps == 'DF':\n",
    "                position = choice(df)\n",
    "                height = round(uniform(1.80, 1.90), 2)\n",
    "            elif ps == 'MF':\n",
    "                position = choice(mf)\n",
    "                height = round(uniform(1.60, 1.90), 2)\n",
    "            elif ps == 'AT':\n",
    "                position = choice(at)\n",
    "                height = round(uniform(1.60, 1.95), 2)\n",
    "            else:\n",
    "                position = None\n",
    "\n",
    "            weight = round(uniform(60.0, 90.9), 2)\n",
    "            foot = choice(['R','L'])\n",
    "            birth = str(randint(1984,2006))\n",
    "    \n",
    "            nationality = choice(['Brazil', 'Argentina', 'Colombia', 'Uruguay', 'Paraguay', 'Chile'])\n",
    "            if nationality == 'Brazil':\n",
    "                name = ' '.join([choice(br_first_names)[0], choice(br_last_names)[0]]) \n",
    "            else: \n",
    "                name = ' '.join([choice(g_first_names)[0], choice(g_last_names)[0]])\n",
    "    \n",
    "            cursor.execute(insert_players, [name, nationality, position, birth, height, weight, foot ])\n",
    "                # end of player insertion \n",
    "        \n",
    "        conn.commit()\n",
    "\n",
    "\n",
    "    cursor.execute(select_last_players)\n",
    "    last_players = cursor.fetchall()\n",
    "\n",
    "    for player in last_players:\n",
    "        cursor.execute(insert_contract, ['2022','2026', 100_000, club[0], player[0]])\n",
    "\n",
    "\n"
   ]
  },
  {
   "cell_type": "code",
   "execution_count": 12,
   "id": "96ce0894-bda3-4353-985d-5bf93ea31815",
   "metadata": {},
   "outputs": [],
   "source": [
    "conn.close()"
   ]
  }
 ],
 "metadata": {
  "kernelspec": {
   "display_name": "Python 3 (ipykernel)",
   "language": "python",
   "name": "python3"
  },
  "language_info": {
   "codemirror_mode": {
    "name": "ipython",
    "version": 3
   },
   "file_extension": ".py",
   "mimetype": "text/x-python",
   "name": "python",
   "nbconvert_exporter": "python",
   "pygments_lexer": "ipython3",
   "version": "3.10.12"
  }
 },
 "nbformat": 4,
 "nbformat_minor": 5
}
