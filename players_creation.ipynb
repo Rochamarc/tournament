{
 "cells": [
  {
   "cell_type": "code",
   "execution_count": 2,
   "id": "b721fa1d-1942-4b57-90e6-25bc1e340d39",
   "metadata": {},
   "outputs": [],
   "source": [
    "import mysql.connector\n",
    "from random import choice, randint, uniform"
   ]
  },
  {
   "cell_type": "code",
   "execution_count": 3,
   "id": "1ba40c73-4ce4-4958-af9a-dd3594ad1635",
   "metadata": {},
   "outputs": [],
   "source": [
    "# Database creation and configuration \n",
    "\n",
    "db_config = {\n",
    "    \"user\": \"tournament_user\",\n",
    "    \"password\": \"tournament_pass\",\n",
    "    \"host\": \"localhost\",\n",
    "    \"database\": \"tournament\"\n",
    "}\n",
    "\n",
    "conn = mysql.connector.connect(**db_config)\n",
    "cursor = conn.cursor()"
   ]
  },
  {
   "cell_type": "code",
   "execution_count": 4,
   "id": "224f9d56-4386-4172-bfc1-fba079b8b425",
   "metadata": {},
   "outputs": [],
   "source": [
    "# Queries\n",
    "\n",
    "# Select queries, the 3 queries that are used before insertion\n",
    "select_first_names = '''\n",
    "SELECT first_names.value \n",
    "FROM first_names \n",
    "WHERE first_names.language = 'Portuguese';\n",
    "'''\n",
    "\n",
    "select_last_names = '''\n",
    "SELECT last_names.value \n",
    "FROM last_names \n",
    "WHERE last_names.language = 'Portuguese';\n",
    "'''\n",
    "\n",
    "select_clubs = \"SELECT id, name FROM clubs;\"\n",
    "\n",
    "# Insert and select queries, the 3 last queries that are used in insertion\n",
    "insert_contract = \"INSERT INTO player_contracts (start, end, salary, club_id, player_id) VALUES(%s, %s, %s, %s, %s);\"\n",
    "insert_players = \"INSERT INTO players VALUES(NULL, %s, %s, %s, %s, %s, %s, %s);\"\n",
    "select_last_players = \"SELECT id FROM players ORDER BY(id) DESC LIMIT 30;\""
   ]
  },
  {
   "cell_type": "code",
   "execution_count": null,
   "id": "61cacab9-966c-4ad1-9ffd-b073389f9fe2",
   "metadata": {},
   "outputs": [],
   "source": [
    "# Suport lists\n",
    "\n",
    "gk = ['GK']\n",
    "df = ['LB', 'RB', 'CB']\n",
    "mf = ['DM', 'CM', 'RM', 'LM', 'AM' ]\n",
    "at = ['SS', 'WG', 'CF' ]\n",
    "\n",
    "countries = ['Brazil', 'Argentina', 'Colombia', 'Uruguay', 'Paraguay', 'Chile']"
   ]
  },
  {
   "cell_type": "code",
   "execution_count": 5,
   "id": "b863d021-43a5-45b1-9e59-7da8b9f51f00",
   "metadata": {},
   "outputs": [],
   "source": [
    "# Select brazilian first & last names\n",
    "\n",
    "cursor.execute(select_first_names)\n",
    "br_first_names = cursor.fetchall()\n",
    "\n",
    "cursor.execute(select_last_names)\n",
    "br_last_names = cursor.fetchall()"
   ]
  },
  {
   "cell_type": "code",
   "execution_count": 6,
   "id": "105e865b-133b-4503-b0e2-a71682074384",
   "metadata": {},
   "outputs": [],
   "source": [
    "# Select spanish first & last names\n",
    "\n",
    "cursor.execute(select_first_names.replace('Portuguese','Spanish'))\n",
    "g_first_names = cursor.fetchall()\n",
    "\n",
    "cursor.execute(select_last_names.replace('Portuguese', 'Spanish'))\n",
    "g_last_names = cursor.fetchall()"
   ]
  },
  {
   "cell_type": "code",
   "execution_count": 7,
   "id": "29322f3e-21b3-4749-afd0-14d14ee1d944",
   "metadata": {},
   "outputs": [],
   "source": [
    "# Select clubs names and id\n",
    "\n",
    "cursor.execute(select_clubs)\n",
    "clubs = cursor.fetchall()"
   ]
  },
  {
   "cell_type": "code",
   "execution_count": 11,
   "id": "c7476ca9-75a6-47ef-a874-d9e00a06aa35",
   "metadata": {
    "scrolled": true
   },
   "outputs": [
    {
     "name": "stdout",
     "output_type": "stream",
     "text": [
      "(1, 'América Mineiro')\n",
      "(2, 'Atlético Mineiro')\n",
      "(3, 'Athletico Paranaense')\n",
      "(4, 'Ceará')\n",
      "(5, 'Fortaleza')\n",
      "(6, 'Flamengo')\n",
      "(7, 'Fluminense')\n",
      "(8, 'Cuiabá')\n",
      "(9, 'Grêmio')\n",
      "(10, 'International')\n",
      "(11, 'Chapecoense')\n",
      "(12, 'Juventude')\n",
      "(13, 'São Paulo')\n",
      "(14, 'Corinthians')\n",
      "(15, 'Palmeiras')\n",
      "(16, 'Santos')\n",
      "(17, 'Red Bull Bragantino')\n",
      "(18, 'Sport Recife')\n",
      "(19, 'Bahia')\n",
      "(20, 'Atlético Goianiense')\n",
      "(21, 'Vasco da Gama')\n",
      "(22, 'Botafogo')\n",
      "(23, 'Cruzeiro')\n",
      "(24, 'Operário')\n",
      "(25, 'Coritiba')\n",
      "(26, 'Goiás')\n",
      "(27, 'Guarani')\n",
      "(28, 'Avaí')\n",
      "(29, 'CRB')\n",
      "(30, 'CSA')\n",
      "(31, 'Náutico')\n",
      "(32, 'Sampaio Corrêa')\n",
      "(33, 'Vila Nova')\n",
      "(34, 'Ponte Preta')\n",
      "(35, 'Brusque')\n",
      "(36, 'Remo')\n",
      "(37, 'Londrina')\n",
      "(38, 'Vitória')\n",
      "(39, 'Confiança')\n",
      "(40, 'Brasil de Pelotas')\n",
      "(41, 'Paysandu')\n",
      "(42, 'Tombense')\n",
      "(43, 'Botafogo-PB')\n",
      "(44, 'Manaus')\n",
      "(45, 'Volta Redonda')\n",
      "(46, 'Ferroviário')\n",
      "(47, 'Altos')\n",
      "(48, 'Floresta')\n",
      "(49, 'Jacuipense')\n",
      "(50, 'Santa Cruz')\n",
      "(51, 'Novorizontino')\n",
      "(52, 'Ituano')\n",
      "(53, 'Ypiranga')\n",
      "(54, 'Criciúma')\n",
      "(55, 'Figueirense')\n",
      "(56, 'São José')\n",
      "(57, 'Botafogo SP')\n",
      "(58, 'Mirasol')\n",
      "(59, 'Paraná')\n",
      "(60, 'Oeste')\n"
     ]
    }
   ],
   "source": [
    "# Create and insert a list of players data and insert into database\n",
    "\n",
    "for club in clubs:\n",
    "    club_id = club[0]\n",
    "    n_for_player = { 'GK': 3, 'DF': 9, 'MF': 11, 'AT': 7 }\n",
    "\n",
    "    # for position, number_of_players_per_position\n",
    "    for ps, n_ps in n_for_player.items():\n",
    "        # Player creation block \n",
    "        \n",
    "        for _ in range(n_ps):\n",
    "            if ps == 'GK':\n",
    "                position = 'GK'\n",
    "                height = round(uniform(1.87, 1.99), 2)\n",
    "            elif ps == 'DF':\n",
    "                position = choice(df)\n",
    "                height = round(uniform(1.80, 1.90), 2)\n",
    "            elif ps == 'MF':\n",
    "                position = choice(mf)\n",
    "                height = round(uniform(1.60, 1.90), 2)\n",
    "            elif ps == 'AT':\n",
    "                position = choice(at)\n",
    "                height = round(uniform(1.60, 1.95), 2)\n",
    "            else:\n",
    "                position = None\n",
    "\n",
    "            weight = round(uniform(60.0, 90.9), 2)\n",
    "            foot = choice(['R','L'])\n",
    "            birth = str(randint(1984,2006))\n",
    "    \n",
    "            nationality = choice(countries)\n",
    "            if nationality == 'Brazil':\n",
    "                name = ' '.join([choice(br_first_names)[0], choice(br_last_names)[0]]) \n",
    "            else: \n",
    "                name = ' '.join([choice(g_first_names)[0], choice(g_last_names)[0]])\n",
    "    \n",
    "            cursor.execute(insert_players, [name, nationality, position, birth, height, weight, foot ]) # insert player into database\n",
    "                # end of player insertion \n",
    "        \n",
    "        conn.commit()\n",
    "\n",
    "    # Select the 30 last players created and insert a contract between a club and player\n",
    "    cursor.execute(select_last_players) \n",
    "    last_players = cursor.fetchall()\n",
    "\n",
    "    for player in last_players:\n",
    "        cursor.execute(insert_contract, ['2022','2026', 100_000, club_id, player[0]])\n",
    "\n",
    "    conn.commit()\n"
   ]
  },
  {
   "cell_type": "code",
   "execution_count": 12,
   "id": "96ce0894-bda3-4353-985d-5bf93ea31815",
   "metadata": {},
   "outputs": [],
   "source": [
    "conn.close()"
   ]
  }
 ],
 "metadata": {
  "kernelspec": {
   "display_name": "Python 3 (ipykernel)",
   "language": "python",
   "name": "python3"
  },
  "language_info": {
   "codemirror_mode": {
    "name": "ipython",
    "version": 3
   },
   "file_extension": ".py",
   "mimetype": "text/x-python",
   "name": "python",
   "nbconvert_exporter": "python",
   "pygments_lexer": "ipython3",
   "version": "3.10.12"
  }
 },
 "nbformat": 4,
 "nbformat_minor": 5
}
