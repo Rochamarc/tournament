{
 "cells": [
  {
   "cell_type": "code",
   "execution_count": 1,
   "id": "5026fab4-b01e-4a70-8146-f2848b8ee0f6",
   "metadata": {},
   "outputs": [],
   "source": [
    "# this is for testing a new way of making a decision\n",
    "\n",
    "from random import randint"
   ]
  },
  {
   "cell_type": "code",
   "execution_count": 21,
   "id": "2ac41bcf-0c44-47d2-a195-6e340f992d13",
   "metadata": {},
   "outputs": [],
   "source": [
    "def decision(overall):\n",
    "    return randint(50,100) < overall"
   ]
  },
  {
   "cell_type": "code",
   "execution_count": 28,
   "id": "a4bb2271-bcce-418e-a229-45d9d85dfdc6",
   "metadata": {},
   "outputs": [
    {
     "name": "stdout",
     "output_type": "stream",
     "text": [
      "False\n",
      "False\n",
      "False\n",
      "False\n",
      "False\n",
      "False\n",
      "False\n",
      "False\n",
      "False\n",
      "False\n"
     ]
    }
   ],
   "source": [
    "for i in range(10):\n",
    "    print(decision(56))"
   ]
  },
  {
   "cell_type": "code",
   "execution_count": null,
   "id": "2e20a33f-7d2f-439b-b195-9935e906b61d",
   "metadata": {},
   "outputs": [],
   "source": []
  }
 ],
 "metadata": {
  "kernelspec": {
   "display_name": "Python 3 (ipykernel)",
   "language": "python",
   "name": "python3"
  },
  "language_info": {
   "codemirror_mode": {
    "name": "ipython",
    "version": 3
   },
   "file_extension": ".py",
   "mimetype": "text/x-python",
   "name": "python",
   "nbconvert_exporter": "python",
   "pygments_lexer": "ipython3",
   "version": "3.10.12"
  }
 },
 "nbformat": 4,
 "nbformat_minor": 5
}
