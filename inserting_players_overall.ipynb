{
 "cells": [
  {
   "cell_type": "code",
   "execution_count": 3,
   "id": "5721bb54-39ab-44f9-93d7-e7598e9afbae",
   "metadata": {},
   "outputs": [],
   "source": [
    "import mysql.connector"
   ]
  },
  {
   "cell_type": "code",
   "execution_count": 10,
   "id": "06c1823c-48aa-42a3-b702-77c0f71d7f3c",
   "metadata": {},
   "outputs": [],
   "source": [
    "from random import randint"
   ]
  },
  {
   "cell_type": "code",
   "execution_count": 7,
   "id": "48d437e0-f4de-4b2d-b2e3-2d3836d4d456",
   "metadata": {},
   "outputs": [],
   "source": [
    "select_players_id = \"SELECT id FROM players;\""
   ]
  },
  {
   "cell_type": "code",
   "execution_count": 14,
   "id": "ca85cd7b-e82c-49a8-a0c8-ed2d2b22468c",
   "metadata": {},
   "outputs": [],
   "source": [
    "insert_players_overall = \"INSERT INTO overall VALUES(NULL, '2022', %s, %s)\""
   ]
  },
  {
   "cell_type": "code",
   "execution_count": 4,
   "id": "2b0296af-9634-4d21-88bb-8fe809d28043",
   "metadata": {},
   "outputs": [],
   "source": [
    "db_config = {\n",
    "    'user': 'tournament_user',\n",
    "    'password': 'tournament_pass',\n",
    "    'host': 'localhost',\n",
    "    'database': 'tournament'\n",
    "}"
   ]
  },
  {
   "cell_type": "code",
   "execution_count": 5,
   "id": "c4d0ca09-b7db-4c77-92bf-9043fd60780e",
   "metadata": {},
   "outputs": [],
   "source": [
    "conn = mysql.connector.connect(**db_config)"
   ]
  },
  {
   "cell_type": "code",
   "execution_count": 6,
   "id": "add39192-7ff2-4e45-b8e6-60de6aac6a5e",
   "metadata": {},
   "outputs": [],
   "source": [
    "cursor = conn.cursor()"
   ]
  },
  {
   "cell_type": "code",
   "execution_count": 8,
   "id": "ea0a0989-60a2-41b8-8f16-7143b3806c55",
   "metadata": {},
   "outputs": [],
   "source": [
    "cursor.execute(select_players_id)\n",
    "players = cursor.fetchall()"
   ]
  },
  {
   "cell_type": "code",
   "execution_count": 15,
   "id": "fcad6800-e86d-4170-a7c8-e78e5568e099",
   "metadata": {},
   "outputs": [],
   "source": [
    "for p in players:\n",
    "    id = p[0]\n",
    "    overall = randint(50,90)\n",
    "    cursor.execute(insert_players_overall, [overall, id])\n",
    "conn.commit()"
   ]
  },
  {
   "cell_type": "code",
   "execution_count": 16,
   "id": "e1583f90-8770-4163-a39e-35b0c92945a4",
   "metadata": {},
   "outputs": [],
   "source": [
    "conn.close()"
   ]
  }
 ],
 "metadata": {
  "kernelspec": {
   "display_name": "Python 3 (ipykernel)",
   "language": "python",
   "name": "python3"
  },
  "language_info": {
   "codemirror_mode": {
    "name": "ipython",
    "version": 3
   },
   "file_extension": ".py",
   "mimetype": "text/x-python",
   "name": "python",
   "nbconvert_exporter": "python",
   "pygments_lexer": "ipython3",
   "version": "3.10.12"
  }
 },
 "nbformat": 4,
 "nbformat_minor": 5
}
