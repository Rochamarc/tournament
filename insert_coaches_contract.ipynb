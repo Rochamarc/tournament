{
 "cells": [
  {
   "cell_type": "code",
   "execution_count": 1,
   "id": "24a8ab35-acd4-4a83-a946-1fb833642a16",
   "metadata": {},
   "outputs": [],
   "source": [
    "import mysql.connector\n",
    "import random"
   ]
  },
  {
   "cell_type": "code",
   "execution_count": 4,
   "id": "84940c91-320b-4cf6-ae60-17e39dc34fcf",
   "metadata": {},
   "outputs": [],
   "source": [
    "# Database configuration and connection\n",
    "\n",
    "db_config = {\n",
    "    'user': 'tournament_user',\n",
    "    'password': 'tournament_pass',\n",
    "    'host': 'localhost',\n",
    "    'database': 'tournament'\n",
    "}\n",
    "\n",
    "conn = mysql.connector.connect(**db_config)\n",
    "cursor = conn.cursor()"
   ]
  },
  {
   "cell_type": "code",
   "execution_count": 2,
   "id": "57c75afb-7007-4899-accf-6c5fa4d0f716",
   "metadata": {},
   "outputs": [],
   "source": [
    "# Queries \n",
    "\n",
    "insert_contract = \"INSERT INTO coach_contracts (start, end, salary, club_id, coach_id) VALUES(%s, %s, %s, %s, %s);\"\n",
    "select_coaches = \"SELECT id FROM coaches;\"\n",
    "select_clubs = \"SELECT id FROM clubs\""
   ]
  },
  {
   "cell_type": "code",
   "execution_count": 3,
   "id": "5afdd26e-650f-426c-81f6-350a1912c448",
   "metadata": {},
   "outputs": [],
   "source": [
    "# Coaches creation clauses\n",
    "\n",
    "start = '2022'\n",
    "end = '2026'\n",
    "salary = 100_000"
   ]
  },
  {
   "cell_type": "code",
   "execution_count": 6,
   "id": "0df74137-b1d3-42d2-88c7-925fad09dc60",
   "metadata": {},
   "outputs": [],
   "source": [
    "# Select coaches and clubs\n",
    "\n",
    "cursor.execute(select_coaches)\n",
    "coaches = cursor.fetchall()\n",
    "\n",
    "cursor.execute(select_clubs)\n",
    "clubs = cursor.fetchall()"
   ]
  },
  {
   "cell_type": "code",
   "execution_count": 7,
   "id": "fc304860-c74e-4ed5-a1e9-08b27e2be5cd",
   "metadata": {},
   "outputs": [],
   "source": [
    "# Shuffle the data\n",
    "\n",
    "random.shuffle(coaches)\n",
    "random.shuffle(clubs)"
   ]
  },
  {
   "cell_type": "code",
   "execution_count": 8,
   "id": "b179eaca-b6f5-4283-bc54-fa53b69c945b",
   "metadata": {},
   "outputs": [],
   "source": [
    "# Create and inser data into the database\n",
    "\n",
    "for _ in range(len(coaches)):\n",
    "    club_id = clubs.pop()[0]\n",
    "    coach_id = coaches.pop()[0]\n",
    "\n",
    "    cursor.execute(insert_contract, [start, end, salary, club_id, coach_id])\n",
    "conn.commit()"
   ]
  },
  {
   "cell_type": "code",
   "execution_count": 9,
   "id": "cf41c043-d288-4ffc-938a-33bebbb7a954",
   "metadata": {},
   "outputs": [],
   "source": [
    "conn.close()"
   ]
  }
 ],
 "metadata": {
  "kernelspec": {
   "display_name": "Python 3 (ipykernel)",
   "language": "python",
   "name": "python3"
  },
  "language_info": {
   "codemirror_mode": {
    "name": "ipython",
    "version": 3
   },
   "file_extension": ".py",
   "mimetype": "text/x-python",
   "name": "python",
   "nbconvert_exporter": "python",
   "pygments_lexer": "ipython3",
   "version": "3.10.12"
  }
 },
 "nbformat": 4,
 "nbformat_minor": 5
}
