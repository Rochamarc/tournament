{
 "cells": [
  {
   "cell_type": "code",
   "execution_count": 1,
   "id": "ef1b27ca-7e96-46de-aada-4dbccb46bdd3",
   "metadata": {},
   "outputs": [],
   "source": [
    "from make import generate_player_hash"
   ]
  },
  {
   "cell_type": "code",
   "execution_count": 2,
   "id": "bc4a569f-0d9c-4e74-ba82-7fd25b79d458",
   "metadata": {},
   "outputs": [],
   "source": [
    "import random"
   ]
  },
  {
   "cell_type": "code",
   "execution_count": 3,
   "id": "11894d8b-e0df-4397-ad5a-22d7665726bd",
   "metadata": {},
   "outputs": [],
   "source": [
    "import pandas as pd"
   ]
  },
  {
   "cell_type": "code",
   "execution_count": 4,
   "id": "4be379f4-e11c-4ac0-aa9b-d965fd1d1367",
   "metadata": {},
   "outputs": [],
   "source": [
    "import numpy as np"
   ]
  },
  {
   "cell_type": "code",
   "execution_count": 5,
   "id": "54844aa9-3fdc-4855-ab8d-ee177d54a0d3",
   "metadata": {},
   "outputs": [],
   "source": [
    "overall = [ i for i in range(50, 101) ]"
   ]
  },
  {
   "cell_type": "code",
   "execution_count": 6,
   "id": "1586647e-d876-451c-8b11-dc82b05441b9",
   "metadata": {},
   "outputs": [],
   "source": [
    "def testes():\n",
    "    \"\"\"Generate a list of lists containing data for the weight, overall and a sucess rate (number of Trues in 10)\n",
    "    \"\"\"\n",
    "    \n",
    "    test = []\n",
    "    \n",
    "    # loop through overall\n",
    "    for over in overall:\n",
    "        weight = 1.0\n",
    "        \n",
    "        # loop through range o weight\n",
    "        for _ in range(10):\n",
    "            values = generate_player_hash(over)\n",
    "\n",
    "            sucess = []\n",
    "\n",
    "            for _ in range(4):\n",
    "                rate_sucess = 0\n",
    "                for _ in range(10):\n",
    "                    val = round(random.random(), 4)\n",
    "                \n",
    "                    if val in values:\n",
    "                        # increase the sucess rate\n",
    "                        rate_sucess += 1\n",
    "\n",
    "                sucess.append(rate_sucess)\n",
    "            \n",
    "            test.append([\n",
    "                weight,\n",
    "                over,\n",
    "                max(sucess) # get the best out of 4\n",
    "            ])\n",
    "                \n",
    "        \n",
    "            # add 0.1 to new weight\n",
    "            weight += 0.1\n",
    "            round(weight, 1)\n",
    "\n",
    "    return test"
   ]
  },
  {
   "cell_type": "code",
   "execution_count": 7,
   "id": "627b2ccd-41b7-494d-841a-56faa2b248ff",
   "metadata": {},
   "outputs": [],
   "source": [
    "results = testes()"
   ]
  },
  {
   "cell_type": "code",
   "execution_count": 8,
   "id": "44b2fbf8-3d1e-47c8-aee2-c25cc1dbd912",
   "metadata": {},
   "outputs": [],
   "source": [
    "df = pd.DataFrame(results, columns=['Weight', 'Overall', 'Sucess Rate'])"
   ]
  },
  {
   "cell_type": "code",
   "execution_count": 9,
   "id": "7d609ed4-b035-44db-a404-ea210e24b308",
   "metadata": {},
   "outputs": [
    {
     "data": {
      "text/plain": [
       "Weight\n",
       "1.0    51\n",
       "1.1    51\n",
       "1.2    51\n",
       "1.3    51\n",
       "1.4    51\n",
       "1.5    51\n",
       "1.6    51\n",
       "1.7    51\n",
       "1.8    51\n",
       "1.9    51\n",
       "Name: count, dtype: int64"
      ]
     },
     "execution_count": 9,
     "metadata": {},
     "output_type": "execute_result"
    }
   ],
   "source": [
    "df['Weight'].value_counts()"
   ]
  },
  {
   "cell_type": "code",
   "execution_count": 24,
   "id": "a392f981-0adc-4845-b2ef-03b136136be7",
   "metadata": {},
   "outputs": [
    {
     "name": "stdout",
     "output_type": "stream",
     "text": [
      "                            Weight  Overall  Sucess Rate\n",
      "Overall_Group Weight_Group                              \n",
      "(50, 60]      (0.999, 1.1]    1.05     55.5         1.90\n",
      "              (1.1, 1.2]      1.20     55.5         2.30\n",
      "              (1.2, 1.3]      1.30     55.5         1.50\n",
      "              (1.3, 1.4]      1.40     55.5         1.60\n",
      "              (1.4, 1.5]      1.50     55.5         1.60\n",
      "              (1.5, 1.6]      1.60     55.5         2.10\n",
      "              (1.6, 1.7]      1.70     55.5         2.10\n",
      "              (1.7, 1.8]      1.80     55.5         1.50\n",
      "              (1.8, 1.9]      1.90     55.5         1.60\n",
      "              (1.9, 2.0]       NaN      NaN          NaN\n",
      "(60, 70]      (0.999, 1.1]    1.05     65.5         1.75\n",
      "              (1.1, 1.2]      1.20     65.5         2.40\n",
      "              (1.2, 1.3]      1.30     65.5         2.00\n",
      "              (1.3, 1.4]      1.40     65.5         2.30\n",
      "              (1.4, 1.5]      1.50     65.5         2.40\n",
      "              (1.5, 1.6]      1.60     65.5         2.30\n",
      "              (1.6, 1.7]      1.70     65.5         2.00\n",
      "              (1.7, 1.8]      1.80     65.5         2.40\n",
      "              (1.8, 1.9]      1.90     65.5         2.60\n",
      "              (1.9, 2.0]       NaN      NaN          NaN\n",
      "(70, 80]      (0.999, 1.1]    1.05     75.5         2.20\n",
      "              (1.1, 1.2]      1.20     75.5         2.40\n",
      "              (1.2, 1.3]      1.30     75.5         2.10\n",
      "              (1.3, 1.4]      1.40     75.5         2.30\n",
      "              (1.4, 1.5]      1.50     75.5         2.10\n",
      "              (1.5, 1.6]      1.60     75.5         2.30\n",
      "              (1.6, 1.7]      1.70     75.5         2.10\n",
      "              (1.7, 1.8]      1.80     75.5         2.20\n",
      "              (1.8, 1.9]      1.90     75.5         2.40\n",
      "              (1.9, 2.0]       NaN      NaN          NaN\n",
      "(80, 90]      (0.999, 1.1]    1.05     85.5         2.50\n",
      "              (1.1, 1.2]      1.20     85.5         2.50\n",
      "              (1.2, 1.3]      1.30     85.5         2.50\n",
      "              (1.3, 1.4]      1.40     85.5         2.60\n",
      "              (1.4, 1.5]      1.50     85.5         2.60\n",
      "              (1.5, 1.6]      1.60     85.5         2.50\n",
      "              (1.6, 1.7]      1.70     85.5         2.70\n",
      "              (1.7, 1.8]      1.80     85.5         2.40\n",
      "              (1.8, 1.9]      1.90     85.5         2.90\n",
      "              (1.9, 2.0]       NaN      NaN          NaN\n",
      "(90, 100]     (0.999, 1.1]    1.05     95.5         2.95\n",
      "              (1.1, 1.2]      1.20     95.5         2.70\n",
      "              (1.2, 1.3]      1.30     95.5         1.90\n",
      "              (1.3, 1.4]      1.40     95.5         2.40\n",
      "              (1.4, 1.5]      1.50     95.5         2.00\n",
      "              (1.5, 1.6]      1.60     95.5         2.30\n",
      "              (1.6, 1.7]      1.70     95.5         2.30\n",
      "              (1.7, 1.8]      1.80     95.5         2.70\n",
      "              (1.8, 1.9]      1.90     95.5         2.90\n",
      "              (1.9, 2.0]       NaN      NaN          NaN\n"
     ]
    },
    {
     "name": "stderr",
     "output_type": "stream",
     "text": [
      "/tmp/ipykernel_108359/1875752063.py:10: FutureWarning: The default of observed=False is deprecated and will be changed to True in a future version of pandas. Pass observed=False to retain current behavior or observed=True to adopt the future default and silence this warning.\n",
      "  grouped = df.groupby([\"Overall_Group\", \"Weight_Group\"]).mean()\n"
     ]
    }
   ],
   "source": [
    "# Definir os intervalos para \"Overall\" e \"Weight\"\n",
    "overall_bins = list(range(50, df[\"Overall\"].max() + 10, 10))\n",
    "weight_bins = np.arange(1.0, 2.1, 0.1)  # Cria faixas de 1.0 a 2.0 com passos de 0.1\n",
    "\n",
    "# Criar colunas de grupos para \"Overall\" e \"Weight\"\n",
    "df[\"Overall_Group\"] = pd.cut(df[\"Overall\"], bins=overall_bins)\n",
    "df[\"Weight_Group\"] = pd.cut(df[\"Weight\"], bins=weight_bins, include_lowest=True)\n",
    "\n",
    "# Agrupar os dados\n",
    "grouped = df.groupby([\"Overall_Group\", \"Weight_Group\"]).mean()\n",
    "\n",
    "# Exibir o resultado\n",
    "print(grouped)"
   ]
  },
  {
   "cell_type": "code",
   "execution_count": null,
   "id": "de7e5d12-d693-4ce2-bd5e-39864a8c7c6b",
   "metadata": {},
   "outputs": [],
   "source": []
  }
 ],
 "metadata": {
  "kernelspec": {
   "display_name": "Python 3 (ipykernel)",
   "language": "python",
   "name": "python3"
  },
  "language_info": {
   "codemirror_mode": {
    "name": "ipython",
    "version": 3
   },
   "file_extension": ".py",
   "mimetype": "text/x-python",
   "name": "python",
   "nbconvert_exporter": "python",
   "pygments_lexer": "ipython3",
   "version": "3.11.7"
  }
 },
 "nbformat": 4,
 "nbformat_minor": 5
}
