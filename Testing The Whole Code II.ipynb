{
 "cells": [
  {
   "cell_type": "code",
   "execution_count": 1,
   "id": "1c5cc76f-7451-4d14-a989-7139ec9a0ee3",
   "metadata": {},
   "outputs": [],
   "source": [
    "# Imports \n",
    "\n",
    "from helper import ClassConstructor\n",
    "from db.players_controller import PlayersController\n",
    "from db.clubs_controller import ClubsController\n",
    "from db.stadiums_controller import StadiumsController\n",
    "from db.games_controller import GamesController\n",
    "\n",
    "from logs_helper import LogsHandler\n",
    "\n",
    "# Just int case\n",
    "from pprint import pprint"
   ]
  },
  {
   "cell_type": "code",
   "execution_count": 2,
   "id": "602c6238-0f1a-48d4-af54-9a80acb7150e",
   "metadata": {},
   "outputs": [],
   "source": [
    "# Class declare (statics)\n",
    "\n",
    "class_const = ClassConstructor()\n",
    "players_controller = PlayersController()\n",
    "clubs_controller = ClubsController()\n",
    "stadiums_controller = StadiumsController()\n",
    "games_controller = GamesController()\n",
    "\n",
    "logs_handler = LogsHandler()"
   ]
  },
  {
   "cell_type": "code",
   "execution_count": 3,
   "id": "d7cc9cc6-113d-40d7-8474-26c3fcf98f0d",
   "metadata": {},
   "outputs": [],
   "source": [
    "# Select and transform stadium data into objects\n",
    "\n",
    "stadiums_data = stadiums_controller.select_all_stadiums()\n",
    "stadiums = class_const.stadiums(stadiums_data)"
   ]
  },
  {
   "cell_type": "code",
   "execution_count": 4,
   "id": "c2734cbf-dafa-42de-81bf-8c860cf0a85e",
   "metadata": {},
   "outputs": [],
   "source": [
    "# Select players with contract\n",
    "\n",
    "# get from db\n",
    "p = players_controller.select_players_with_contract('2022') \n",
    "\n",
    "# transform into objects\n",
    "players = class_const.players(p) "
   ]
  },
  {
   "cell_type": "code",
   "execution_count": 5,
   "id": "77f9b526-5eac-4882-96fa-d9164d0d3f70",
   "metadata": {},
   "outputs": [],
   "source": [
    "# Serie A clubs selection & cast\n",
    "\n",
    "serie_a = clubs_controller.select_serie_a_clubs()\n",
    "serie_a_clubs = class_const.clubs(serie_a)\n",
    "serie_a_clubs = class_const.add_players_to_clubs(serie_a_clubs, players)"
   ]
  },
  {
   "cell_type": "code",
   "execution_count": 6,
   "id": "1f38bd58-6b2a-4751-8b78-620162a1d52c",
   "metadata": {},
   "outputs": [],
   "source": [
    "# Set clubs formation\n",
    "\n",
    "class_const.define_formation(serie_a_clubs)"
   ]
  },
  {
   "cell_type": "code",
   "execution_count": 7,
   "id": "3fa4f62b-b470-4ea2-9c16-918548da0551",
   "metadata": {},
   "outputs": [],
   "source": [
    "# Define the clubs matches, this will return a list of lists with two differents teams\n",
    "\n",
    "serie_a_schedule = class_const.define_schedule(serie_a_clubs)"
   ]
  },
  {
   "cell_type": "code",
   "execution_count": 8,
   "id": "28043f9d-8c6a-485b-bc18-eda98df2c242",
   "metadata": {},
   "outputs": [],
   "source": [
    "# Return a list of games object with all the confrontations through the season\n",
    "\n",
    "serie_a_games = class_const.prepare_games(serie_a_schedule, stadiums, 'Campeonato Brasileiro Serie A', 2022)"
   ]
  },
  {
   "cell_type": "code",
   "execution_count": 9,
   "id": "eddcdd37-f613-409b-b44f-04e36b69b711",
   "metadata": {},
   "outputs": [],
   "source": [
    "for game in serie_a_games:\n",
    "    game.start()"
   ]
  },
  {
   "cell_type": "code",
   "execution_count": 10,
   "id": "766ddf80-eb49-49cf-914c-68afd173d56c",
   "metadata": {},
   "outputs": [],
   "source": [
    "# Here we started to insert games into database"
   ]
  },
  {
   "cell_type": "code",
   "execution_count": 11,
   "id": "887cc113-d372-4977-a841-c42079e1d8c8",
   "metadata": {},
   "outputs": [],
   "source": [
    "# Prepare a stats data for game_stats \n",
    "\n",
    "for game in serie_a_games:\n",
    "    stats_data = logs_handler.prepare_game_stats_logs_to_db(logs_handler.get_game_stats(game.logs, game.home, game.away))\n",
    "\n",
    "    # Insert and get the id from the game stats\n",
    "    s1 = games_controller.insert_game_stat_with_id_return(stats_data[0])\n",
    "    s2 = games_controller.insert_game_stat_with_id_return(stats_data[1])\n",
    "\n",
    "    # get the last games_stats id inserted\n",
    "    game_ids = s1[0][0], s2[0][0]\n",
    "\n",
    "    # prepare data to insert game\n",
    "    prepare_game = logs_handler.prepare_game_logs_to_db(game.logs, game_ids)\n",
    "\n",
    "    # insert games into the database\n",
    "    games_controller.insert_games_list([prepare_game])"
   ]
  }
 ],
 "metadata": {
  "kernelspec": {
   "display_name": "Python 3 (ipykernel)",
   "language": "python",
   "name": "python3"
  },
  "language_info": {
   "codemirror_mode": {
    "name": "ipython",
    "version": 3
   },
   "file_extension": ".py",
   "mimetype": "text/x-python",
   "name": "python",
   "nbconvert_exporter": "python",
   "pygments_lexer": "ipython3",
   "version": "3.10.12"
  }
 },
 "nbformat": 4,
 "nbformat_minor": 5
}
