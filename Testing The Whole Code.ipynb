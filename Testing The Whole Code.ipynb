{
 "cells": [
  {
   "cell_type": "code",
   "execution_count": 1,
   "id": "1c5cc76f-7451-4d14-a989-7139ec9a0ee3",
   "metadata": {},
   "outputs": [],
   "source": [
    "# Imports \n",
    "\n",
    "from helper import ClassConstructor\n",
    "from controllers.players_controller import PlayersController\n",
    "from controllers.clubs_controller import ClubsController\n",
    "from controllers.stadiums_controller import StadiumsController\n",
    "from controllers.games_controller import GamesController\n",
    "\n",
    "from logs_helper import LogsHandler\n",
    "\n",
    "# Just int case\n",
    "from pprint import pprint"
   ]
  },
  {
   "cell_type": "code",
   "execution_count": 2,
   "id": "602c6238-0f1a-48d4-af54-9a80acb7150e",
   "metadata": {},
   "outputs": [],
   "source": [
    "# Class declare (statics)\n",
    "\n",
    "class_const = ClassConstructor()\n",
    "players_controller = PlayersController()\n",
    "clubs_controller = ClubsController()\n",
    "stadiums_controller = StadiumsController()\n",
    "games_controller = GamesController()"
   ]
  },
  {
   "cell_type": "code",
   "execution_count": 3,
   "id": "d7cc9cc6-113d-40d7-8474-26c3fcf98f0d",
   "metadata": {},
   "outputs": [],
   "source": [
    "# Select and transform stadium data into objects\n",
    "\n",
    "stadiums_data = stadiums_controller.select_all_stadiums()\n",
    "stadiums = class_const.stadiums(stadiums_data)"
   ]
  },
  {
   "cell_type": "code",
   "execution_count": 4,
   "id": "c2734cbf-dafa-42de-81bf-8c860cf0a85e",
   "metadata": {},
   "outputs": [],
   "source": [
    "# Select players with contract\n",
    "\n",
    "# get from db\n",
    "p = players_controller.select_players_with_contract('2022') \n",
    "\n",
    "# transform into objects\n",
    "players = class_const.players(p) "
   ]
  },
  {
   "cell_type": "code",
   "execution_count": 5,
   "id": "77f9b526-5eac-4882-96fa-d9164d0d3f70",
   "metadata": {},
   "outputs": [],
   "source": [
    "# Serie A clubs selection & cast\n",
    "\n",
    "serie_a = clubs_controller.select_serie_a_clubs()\n",
    "serie_a_clubs = class_const.clubs(serie_a)\n",
    "serie_a_clubs = class_const.add_players_to_clubs(serie_a_clubs, players)"
   ]
  },
  {
   "cell_type": "code",
   "execution_count": 6,
   "id": "1f38bd58-6b2a-4751-8b78-620162a1d52c",
   "metadata": {},
   "outputs": [],
   "source": [
    "# Set clubs formation\n",
    "\n",
    "class_const.define_formation(serie_a_clubs)"
   ]
  },
  {
   "cell_type": "code",
   "execution_count": 7,
   "id": "3fa4f62b-b470-4ea2-9c16-918548da0551",
   "metadata": {},
   "outputs": [],
   "source": [
    "# Define the clubs matches, this will return a list of lists with two differents teams\n",
    "\n",
    "serie_a_schedule = class_const.define_schedule(serie_a_clubs)"
   ]
  },
  {
   "cell_type": "code",
   "execution_count": 8,
   "id": "28043f9d-8c6a-485b-bc18-eda98df2c242",
   "metadata": {},
   "outputs": [],
   "source": [
    "# Return a list of games object with all the confrontations through the season\n",
    "\n",
    "serie_a_games = class_const.prepare_games(serie_a_schedule, stadiums, 'Campeonato Brasileiro Serie A', 2022)"
   ]
  },
  {
   "cell_type": "code",
   "execution_count": 9,
   "id": "eddcdd37-f613-409b-b44f-04e36b69b711",
   "metadata": {},
   "outputs": [],
   "source": [
    "game = serie_a_games[0]"
   ]
  },
  {
   "cell_type": "code",
   "execution_count": 10,
   "id": "a7a26105-9856-489c-bf41-2dddad1be965",
   "metadata": {
    "scrolled": true
   },
   "outputs": [
    {
     "data": {
      "text/plain": [
       "{'game_stats': {'América Mineiro': {'home': True,\n",
       "   'goals': 1,\n",
       "   'shots': 7,\n",
       "   'shots on target': 10,\n",
       "   'fouls': 8,\n",
       "   'passes': 38,\n",
       "   'wrong passes': 6,\n",
       "   'interceptions': 4,\n",
       "   'tackles': 6,\n",
       "   'stolen_balls': 10,\n",
       "   'saves': 7,\n",
       "   'ball possession': 0,\n",
       "   'offsides': 0,\n",
       "   'free kicks': 0,\n",
       "   'penalties': 0},\n",
       "  'Atlético Mineiro': {'home': True,\n",
       "   'goals': 5,\n",
       "   'shots': 13,\n",
       "   'shots on target': 12,\n",
       "   'fouls': 12,\n",
       "   'passes': 47,\n",
       "   'wrong passes': 6,\n",
       "   'interceptions': 9,\n",
       "   'tackles': 8,\n",
       "   'stolen_balls': 11,\n",
       "   'saves': 9,\n",
       "   'ball possession': 0,\n",
       "   'offsides': 0,\n",
       "   'free kicks': 0,\n",
       "   'penalties': 0}},\n",
       " 'scoreboard': '1 x 5',\n",
       " 'player_stats': {'assists': defaultdict(int,\n",
       "              {Player(Paranaguá Dias): 1,\n",
       "               Player(Epíteto Mendes): 1,\n",
       "               Player(Rosário Fiuza): 3}),\n",
       "  'goals': defaultdict(int,\n",
       "              {Player(Fernão Gonçalves): 1,\n",
       "               Player(Agnato Reis): 1,\n",
       "               Player(Abstêmio Alcantara): 1,\n",
       "               Player(Cauã Eler): 1,\n",
       "               Player(Teófilo Miranda): 1,\n",
       "               Player(Epíteto Mendes): 1}),\n",
       "  'tackles': defaultdict(int,\n",
       "              {Player(Yure Cella): 1,\n",
       "               Player(Naamã Aquila): 4,\n",
       "               Player(Epíteto Mendes): 1,\n",
       "               Player(Fernão Gonçalves): 2,\n",
       "               Player(Lóris Alvarenga): 3,\n",
       "               Player(Athos Guerri): 1,\n",
       "               Player(Teófilo Miranda): 1,\n",
       "               Player(Sherlock Falcao): 1}),\n",
       "  'defenses': defaultdict(int,\n",
       "              {Player(Abstêmio Alcantara): 9, Player(Cauã Eler): 7}),\n",
       "  'passes': defaultdict(int,\n",
       "              {Player(Sherlock Falcao): 5,\n",
       "               Player(Cauã Eler): 14,\n",
       "               Player(Palemon Burca): 4,\n",
       "               Player(Yure Cella): 5,\n",
       "               Player(Fernão Gonçalves): 12,\n",
       "               Player(Abstêmio Alcantara): 10,\n",
       "               Player(Naamã Aquila): 8,\n",
       "               Player(Lóris Alvarenga): 14,\n",
       "               Player(Teófilo Miranda): 11,\n",
       "               Player(Paranaguá Dias): 1,\n",
       "               Player(Epíteto Mendes): 1}),\n",
       "  'wrong_passes': defaultdict(int,\n",
       "              {Player(Cauã Eler): 2,\n",
       "               Player(Sherlock Falcao): 1,\n",
       "               Player(Naamã Aquila): 2,\n",
       "               Player(Fernão Gonçalves): 3,\n",
       "               Player(Lóris Alvarenga): 3,\n",
       "               Player(Abstêmio Alcantara): 1}),\n",
       "  'intercepted_passes': defaultdict(int,\n",
       "              {Player(Palemon Burca): 1,\n",
       "               Player(Ronny Betti): 1,\n",
       "               Player(Sherlock Falcao): 1,\n",
       "               Player(Fernão Gonçalves): 4,\n",
       "               Player(Teófilo Miranda): 3,\n",
       "               Player(Yure Cella): 2,\n",
       "               Player(Lóris Alvarenga): 1}),\n",
       "  'dificult_defenses': defaultdict(int, {}),\n",
       "  'clearances': defaultdict(int, {}),\n",
       "  'fouls': defaultdict(int,\n",
       "              {Player(Ronny Betti): 1,\n",
       "               Player(Lóris Alvarenga): 4,\n",
       "               Player(Palemon Burca): 1,\n",
       "               Player(Fernão Gonçalves): 3,\n",
       "               Player(Yure Cella): 6,\n",
       "               Player(Teófilo Miranda): 2,\n",
       "               Player(Naamã Aquila): 1,\n",
       "               Player(Sherlock Falcao): 2}),\n",
       "  'stolen_balls': defaultdict(int,\n",
       "              {Player(Palemon Burca): 1,\n",
       "               Player(Lóris Alvarenga): 8,\n",
       "               Player(Yure Cella): 1,\n",
       "               Player(Ronny Betti): 1,\n",
       "               Player(Fernão Gonçalves): 3,\n",
       "               Player(Sherlock Falcao): 1,\n",
       "               Player(Teófilo Miranda): 3,\n",
       "               Player(Naamã Aquila): 3})},\n",
       " 'players': {'home': [Player(Cauã Eler),\n",
       "   Player(Beoto Souza),\n",
       "   Player(Rocco Terriquez),\n",
       "   Player(Eco Braga),\n",
       "   Player(Acir Vivaz),\n",
       "   Player(Jaime Guerri),\n",
       "   Player(Tapiraça Veles),\n",
       "   Player(Waclaw Araujo),\n",
       "   Player(Yure Cella),\n",
       "   Player(Lóris Alvarenga),\n",
       "   Player(Sherlock Falcao),\n",
       "   Player(Alcídes Laranja),\n",
       "   Player(Davidson Nunes),\n",
       "   Player(Estéfano Valadares),\n",
       "   Player(Athos Guerri),\n",
       "   Player(José Alirez)],\n",
       "  'away': [Player(Abstêmio Alcantara),\n",
       "   Player(Téo Fiuza),\n",
       "   Player(Alfonso Guitierez),\n",
       "   Player(Imael Vieira),\n",
       "   Player(Agnato Reis),\n",
       "   Player(Paranaguá Dias),\n",
       "   Player(Rosário Fiuza),\n",
       "   Player(Epíteto Mendes),\n",
       "   Player(Ronny Betti),\n",
       "   Player(Araípe Vivaz),\n",
       "   Player(Fernão Gonçalves),\n",
       "   Player(Palemon Burca),\n",
       "   Player(Naamã Aquila),\n",
       "   Player(Teodoro Saurez),\n",
       "   Player(Teófilo Miranda),\n",
       "   Player(Amador Fernandes)]},\n",
       " 'others': {'winner': 'Atlético Mineiro',\n",
       "  'loser': 'América Mineiro',\n",
       "  'draw': False,\n",
       "  'home_goals': 1,\n",
       "  'away_goals': 5},\n",
       " 'field': {'location': 'Cali, Colombia',\n",
       "  'stadium': 'Deportivo Cali',\n",
       "  'audience': 17976,\n",
       "  'conditions': {'season': 2022,\n",
       "   'climate': 'cold',\n",
       "   'weather': 'rainy',\n",
       "   'hour': '16:00'}},\n",
       " 'finances': {'ticket_price': 50,\n",
       "  'ticket_half_price': 25,\n",
       "  'audience_full_price': 13827.0,\n",
       "  'audience_half_price': 4149.0}}"
      ]
     },
     "execution_count": 10,
     "metadata": {},
     "output_type": "execute_result"
    }
   ],
   "source": [
    "game.start()"
   ]
  },
  {
   "cell_type": "code",
   "execution_count": 11,
   "id": "95d59e7d-d189-4523-a19f-84e7f120f845",
   "metadata": {},
   "outputs": [
    {
     "data": {
      "text/plain": [
       "{'América Mineiro': {'home': True,\n",
       "  'goals': 1,\n",
       "  'shots': 7,\n",
       "  'shots on target': 10,\n",
       "  'fouls': 8,\n",
       "  'passes': 38,\n",
       "  'wrong passes': 6,\n",
       "  'interceptions': 4,\n",
       "  'tackles': 6,\n",
       "  'stolen_balls': 10,\n",
       "  'saves': 7,\n",
       "  'ball possession': 0,\n",
       "  'offsides': 0,\n",
       "  'free kicks': 0,\n",
       "  'penalties': 0},\n",
       " 'Atlético Mineiro': {'home': True,\n",
       "  'goals': 5,\n",
       "  'shots': 13,\n",
       "  'shots on target': 12,\n",
       "  'fouls': 12,\n",
       "  'passes': 47,\n",
       "  'wrong passes': 6,\n",
       "  'interceptions': 9,\n",
       "  'tackles': 8,\n",
       "  'stolen_balls': 11,\n",
       "  'saves': 9,\n",
       "  'ball possession': 0,\n",
       "  'offsides': 0,\n",
       "  'free kicks': 0,\n",
       "  'penalties': 0}}"
      ]
     },
     "execution_count": 11,
     "metadata": {},
     "output_type": "execute_result"
    }
   ],
   "source": [
    "game.logs['game_stats']"
   ]
  },
  {
   "cell_type": "code",
   "execution_count": 12,
   "id": "6a3fd6c5-87a1-4c65-bb65-246ce2134905",
   "metadata": {},
   "outputs": [
    {
     "data": {
      "text/plain": [
       "{'América Mineiro': {'home': True,\n",
       "  'goals': 1,\n",
       "  'shots': 7,\n",
       "  'shots on target': 10,\n",
       "  'fouls': 8,\n",
       "  'passes': 38,\n",
       "  'wrong passes': 6,\n",
       "  'interceptions': 4,\n",
       "  'tackles': 6,\n",
       "  'stolen_balls': 10,\n",
       "  'saves': 7,\n",
       "  'ball possession': 0,\n",
       "  'offsides': 0,\n",
       "  'free kicks': 0,\n",
       "  'penalties': 0,\n",
       "  'club_id': 1},\n",
       " 'Atlético Mineiro': {'home': True,\n",
       "  'goals': 5,\n",
       "  'shots': 13,\n",
       "  'shots on target': 12,\n",
       "  'fouls': 12,\n",
       "  'passes': 47,\n",
       "  'wrong passes': 6,\n",
       "  'interceptions': 9,\n",
       "  'tackles': 8,\n",
       "  'stolen_balls': 11,\n",
       "  'saves': 9,\n",
       "  'ball possession': 0,\n",
       "  'offsides': 0,\n",
       "  'free kicks': 0,\n",
       "  'penalties': 0,\n",
       "  'club_id': 2}}"
      ]
     },
     "execution_count": 12,
     "metadata": {},
     "output_type": "execute_result"
    }
   ],
   "source": [
    "# Testing the game stats handler\n",
    "\n",
    "logs_handler = LogsHandler()\n",
    "\n",
    "logs_handler.get_game_stats(game.logs, game.home, game.away)"
   ]
  },
  {
   "cell_type": "code",
   "execution_count": 13,
   "id": "766ddf80-eb49-49cf-914c-68afd173d56c",
   "metadata": {},
   "outputs": [],
   "source": [
    "# Here we started to insert games into database"
   ]
  },
  {
   "cell_type": "code",
   "execution_count": 14,
   "id": "887cc113-d372-4977-a841-c42079e1d8c8",
   "metadata": {},
   "outputs": [],
   "source": [
    "# Prepare a stats data for game_stats \n",
    "\n",
    "\n",
    "stats_data = logs_handler.prepare_game_stats_logs_to_db(logs_handler.get_game_stats(game.logs, game.home, game.away))"
   ]
  },
  {
   "cell_type": "code",
   "execution_count": 15,
   "id": "e61140b3-3f31-4d2a-8481-8ab26bc57cdd",
   "metadata": {},
   "outputs": [
    {
     "data": {
      "text/plain": [
       "[[1, 7, 10, 8, 38, 6, 4, 6, 10, 7, 0, 0, 0, 0, 1],\n",
       " [5, 13, 12, 12, 47, 6, 9, 8, 11, 9, 0, 0, 0, 0, 2]]"
      ]
     },
     "execution_count": 15,
     "metadata": {},
     "output_type": "execute_result"
    }
   ],
   "source": [
    "stats_data"
   ]
  },
  {
   "cell_type": "code",
   "execution_count": 16,
   "id": "86bc0725-688a-4280-9de5-b3fc1d8798f1",
   "metadata": {
    "scrolled": true
   },
   "outputs": [
    {
     "data": {
      "text/plain": [
       "{'game_stats': {'América Mineiro': {'home': True,\n",
       "   'goals': 1,\n",
       "   'shots': 7,\n",
       "   'shots on target': 10,\n",
       "   'fouls': 8,\n",
       "   'passes': 38,\n",
       "   'wrong passes': 6,\n",
       "   'interceptions': 4,\n",
       "   'tackles': 6,\n",
       "   'stolen_balls': 10,\n",
       "   'saves': 7,\n",
       "   'ball possession': 0,\n",
       "   'offsides': 0,\n",
       "   'free kicks': 0,\n",
       "   'penalties': 0,\n",
       "   'club_id': 1},\n",
       "  'Atlético Mineiro': {'home': True,\n",
       "   'goals': 5,\n",
       "   'shots': 13,\n",
       "   'shots on target': 12,\n",
       "   'fouls': 12,\n",
       "   'passes': 47,\n",
       "   'wrong passes': 6,\n",
       "   'interceptions': 9,\n",
       "   'tackles': 8,\n",
       "   'stolen_balls': 11,\n",
       "   'saves': 9,\n",
       "   'ball possession': 0,\n",
       "   'offsides': 0,\n",
       "   'free kicks': 0,\n",
       "   'penalties': 0,\n",
       "   'club_id': 2}},\n",
       " 'scoreboard': '1 x 5',\n",
       " 'player_stats': {'assists': defaultdict(int,\n",
       "              {Player(Paranaguá Dias): 1,\n",
       "               Player(Epíteto Mendes): 1,\n",
       "               Player(Rosário Fiuza): 3}),\n",
       "  'goals': defaultdict(int,\n",
       "              {Player(Fernão Gonçalves): 1,\n",
       "               Player(Agnato Reis): 1,\n",
       "               Player(Abstêmio Alcantara): 1,\n",
       "               Player(Cauã Eler): 1,\n",
       "               Player(Teófilo Miranda): 1,\n",
       "               Player(Epíteto Mendes): 1}),\n",
       "  'tackles': defaultdict(int,\n",
       "              {Player(Yure Cella): 1,\n",
       "               Player(Naamã Aquila): 4,\n",
       "               Player(Epíteto Mendes): 1,\n",
       "               Player(Fernão Gonçalves): 2,\n",
       "               Player(Lóris Alvarenga): 3,\n",
       "               Player(Athos Guerri): 1,\n",
       "               Player(Teófilo Miranda): 1,\n",
       "               Player(Sherlock Falcao): 1}),\n",
       "  'defenses': defaultdict(int,\n",
       "              {Player(Abstêmio Alcantara): 9, Player(Cauã Eler): 7}),\n",
       "  'passes': defaultdict(int,\n",
       "              {Player(Sherlock Falcao): 5,\n",
       "               Player(Cauã Eler): 14,\n",
       "               Player(Palemon Burca): 4,\n",
       "               Player(Yure Cella): 5,\n",
       "               Player(Fernão Gonçalves): 12,\n",
       "               Player(Abstêmio Alcantara): 10,\n",
       "               Player(Naamã Aquila): 8,\n",
       "               Player(Lóris Alvarenga): 14,\n",
       "               Player(Teófilo Miranda): 11,\n",
       "               Player(Paranaguá Dias): 1,\n",
       "               Player(Epíteto Mendes): 1}),\n",
       "  'wrong_passes': defaultdict(int,\n",
       "              {Player(Cauã Eler): 2,\n",
       "               Player(Sherlock Falcao): 1,\n",
       "               Player(Naamã Aquila): 2,\n",
       "               Player(Fernão Gonçalves): 3,\n",
       "               Player(Lóris Alvarenga): 3,\n",
       "               Player(Abstêmio Alcantara): 1}),\n",
       "  'intercepted_passes': defaultdict(int,\n",
       "              {Player(Palemon Burca): 1,\n",
       "               Player(Ronny Betti): 1,\n",
       "               Player(Sherlock Falcao): 1,\n",
       "               Player(Fernão Gonçalves): 4,\n",
       "               Player(Teófilo Miranda): 3,\n",
       "               Player(Yure Cella): 2,\n",
       "               Player(Lóris Alvarenga): 1}),\n",
       "  'dificult_defenses': defaultdict(int, {}),\n",
       "  'clearances': defaultdict(int, {}),\n",
       "  'fouls': defaultdict(int,\n",
       "              {Player(Ronny Betti): 1,\n",
       "               Player(Lóris Alvarenga): 4,\n",
       "               Player(Palemon Burca): 1,\n",
       "               Player(Fernão Gonçalves): 3,\n",
       "               Player(Yure Cella): 6,\n",
       "               Player(Teófilo Miranda): 2,\n",
       "               Player(Naamã Aquila): 1,\n",
       "               Player(Sherlock Falcao): 2}),\n",
       "  'stolen_balls': defaultdict(int,\n",
       "              {Player(Palemon Burca): 1,\n",
       "               Player(Lóris Alvarenga): 8,\n",
       "               Player(Yure Cella): 1,\n",
       "               Player(Ronny Betti): 1,\n",
       "               Player(Fernão Gonçalves): 3,\n",
       "               Player(Sherlock Falcao): 1,\n",
       "               Player(Teófilo Miranda): 3,\n",
       "               Player(Naamã Aquila): 3})},\n",
       " 'players': {'home': [Player(Cauã Eler),\n",
       "   Player(Beoto Souza),\n",
       "   Player(Rocco Terriquez),\n",
       "   Player(Eco Braga),\n",
       "   Player(Acir Vivaz),\n",
       "   Player(Jaime Guerri),\n",
       "   Player(Tapiraça Veles),\n",
       "   Player(Waclaw Araujo),\n",
       "   Player(Yure Cella),\n",
       "   Player(Lóris Alvarenga),\n",
       "   Player(Sherlock Falcao),\n",
       "   Player(Alcídes Laranja),\n",
       "   Player(Davidson Nunes),\n",
       "   Player(Estéfano Valadares),\n",
       "   Player(Athos Guerri),\n",
       "   Player(José Alirez)],\n",
       "  'away': [Player(Abstêmio Alcantara),\n",
       "   Player(Téo Fiuza),\n",
       "   Player(Alfonso Guitierez),\n",
       "   Player(Imael Vieira),\n",
       "   Player(Agnato Reis),\n",
       "   Player(Paranaguá Dias),\n",
       "   Player(Rosário Fiuza),\n",
       "   Player(Epíteto Mendes),\n",
       "   Player(Ronny Betti),\n",
       "   Player(Araípe Vivaz),\n",
       "   Player(Fernão Gonçalves),\n",
       "   Player(Palemon Burca),\n",
       "   Player(Naamã Aquila),\n",
       "   Player(Teodoro Saurez),\n",
       "   Player(Teófilo Miranda),\n",
       "   Player(Amador Fernandes)]},\n",
       " 'others': {'winner': 'Atlético Mineiro',\n",
       "  'loser': 'América Mineiro',\n",
       "  'draw': False,\n",
       "  'home_goals': 1,\n",
       "  'away_goals': 5},\n",
       " 'field': {'location': 'Cali, Colombia',\n",
       "  'stadium': 'Deportivo Cali',\n",
       "  'audience': 17976,\n",
       "  'conditions': {'season': 2022,\n",
       "   'climate': 'cold',\n",
       "   'weather': 'rainy',\n",
       "   'hour': '16:00'}},\n",
       " 'finances': {'ticket_price': 50,\n",
       "  'ticket_half_price': 25,\n",
       "  'audience_full_price': 13827.0,\n",
       "  'audience_half_price': 4149.0}}"
      ]
     },
     "execution_count": 16,
     "metadata": {},
     "output_type": "execute_result"
    }
   ],
   "source": [
    "game.logs"
   ]
  },
  {
   "cell_type": "code",
   "execution_count": 17,
   "id": "a890a7b3-fe92-4e5b-8637-992373023887",
   "metadata": {},
   "outputs": [
    {
     "data": {
      "text/plain": [
       "[0, 0, 1, 0, 1, 5, 0, 1, '2022']"
      ]
     },
     "execution_count": 17,
     "metadata": {},
     "output_type": "execute_result"
    }
   ],
   "source": [
    "logs_handler.prepare_championships_logs_to_db(game.logs, game.home, '2022')"
   ]
  },
  {
   "cell_type": "code",
   "execution_count": 18,
   "id": "90d80d19-de57-4c10-a81a-6cee3626d717",
   "metadata": {},
   "outputs": [
    {
     "data": {
      "text/plain": [
       "[3, 1, 0, 0, 1, 5, 2, 2, '2022']"
      ]
     },
     "execution_count": 18,
     "metadata": {},
     "output_type": "execute_result"
    }
   ],
   "source": [
    "logs_handler.prepare_championships_logs_to_db(game.logs, game.away, '2022')"
   ]
  },
  {
   "cell_type": "code",
   "execution_count": 19,
   "id": "b9c4a43a-1220-4a96-90d8-9485f7bb5e9d",
   "metadata": {},
   "outputs": [
    {
     "data": {
      "text/plain": [
       "{'winner': 'Atlético Mineiro',\n",
       " 'loser': 'América Mineiro',\n",
       " 'draw': False,\n",
       " 'home_goals': 1,\n",
       " 'away_goals': 5}"
      ]
     },
     "execution_count": 19,
     "metadata": {},
     "output_type": "execute_result"
    }
   ],
   "source": [
    "game.logs['others']"
   ]
  },
  {
   "cell_type": "code",
   "execution_count": 20,
   "id": "2bd6dc0a-22ab-4981-be90-8aceeee257c8",
   "metadata": {},
   "outputs": [],
   "source": [
    "# Insert and get the id from the game stats\n",
    "\n",
    "# s1 = games_controller.insert_game_stat_with_id_return(stats_data[0])"
   ]
  },
  {
   "cell_type": "code",
   "execution_count": 21,
   "id": "f74753aa-c7cc-4911-81e8-2f95787c36c1",
   "metadata": {},
   "outputs": [],
   "source": [
    "# Insert and get the id from the game stats\n",
    "\n",
    "# s2 = games_controller.insert_game_stat_with_id_return(stats_data[1])"
   ]
  },
  {
   "cell_type": "code",
   "execution_count": 22,
   "id": "c062b554-631a-47e4-822c-e658c77bcb9f",
   "metadata": {},
   "outputs": [
    {
     "ename": "NameError",
     "evalue": "name 's1' is not defined",
     "output_type": "error",
     "traceback": [
      "\u001b[0;31m---------------------------------------------------------------------------\u001b[0m",
      "\u001b[0;31mNameError\u001b[0m                                 Traceback (most recent call last)",
      "Cell \u001b[0;32mIn[22], line 3\u001b[0m\n\u001b[1;32m      1\u001b[0m \u001b[38;5;66;03m# Get and variable storing the home_game_stats_id & away_game_stats_id\u001b[39;00m\n\u001b[0;32m----> 3\u001b[0m game_ids \u001b[38;5;241m=\u001b[39m \u001b[43ms1\u001b[49m[\u001b[38;5;241m0\u001b[39m][\u001b[38;5;241m0\u001b[39m], s2[\u001b[38;5;241m0\u001b[39m][\u001b[38;5;241m0\u001b[39m]\n",
      "\u001b[0;31mNameError\u001b[0m: name 's1' is not defined"
     ]
    }
   ],
   "source": [
    "# Get and variable storing the home_game_stats_id & away_game_stats_id\n",
    "\n",
    "game_ids = s1[0][0], s2[0][0]"
   ]
  },
  {
   "cell_type": "code",
   "execution_count": null,
   "id": "ce849ebd-a0fc-43b6-922a-cd27c88b5130",
   "metadata": {},
   "outputs": [],
   "source": [
    "game_ids"
   ]
  },
  {
   "cell_type": "code",
   "execution_count": null,
   "id": "efca6c06-bb23-41a8-9b16-f180d847dee3",
   "metadata": {},
   "outputs": [],
   "source": [
    "# Prepare the game data to insert on tournament.game table\n",
    "\n",
    "prepare_game = logs_handler.prepare_game_logs_to_db(game.logs, game_ids) "
   ]
  },
  {
   "cell_type": "code",
   "execution_count": null,
   "id": "b941ff74-0a8e-41a4-a82b-e7f28dc3da62",
   "metadata": {},
   "outputs": [],
   "source": [
    "prepare_game"
   ]
  },
  {
   "cell_type": "code",
   "execution_count": null,
   "id": "8bec0fa8-55bb-4dfc-86ec-c2ae4874acdf",
   "metadata": {},
   "outputs": [],
   "source": [
    "# Insert the game into the database\n",
    "\n",
    "# games_controller.insert_games_list([prepare_game])"
   ]
  }
 ],
 "metadata": {
  "kernelspec": {
   "display_name": "Python 3 (ipykernel)",
   "language": "python",
   "name": "python3"
  },
  "language_info": {
   "codemirror_mode": {
    "name": "ipython",
    "version": 3
   },
   "file_extension": ".py",
   "mimetype": "text/x-python",
   "name": "python",
   "nbconvert_exporter": "python",
   "pygments_lexer": "ipython3",
   "version": "3.10.12"
  }
 },
 "nbformat": 4,
 "nbformat_minor": 5
}
