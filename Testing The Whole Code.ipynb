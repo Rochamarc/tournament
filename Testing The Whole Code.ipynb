{
 "cells": [
  {
   "cell_type": "code",
   "execution_count": 1,
   "id": "1c5cc76f-7451-4d14-a989-7139ec9a0ee3",
   "metadata": {},
   "outputs": [],
   "source": [
    "# Imports \n",
    "\n",
    "from helper import ClassConstructor\n",
    "from db.players_controller import PlayersController\n",
    "from db.clubs_controller import ClubsController\n",
    "from db.stadiums_controller import StadiumsController\n",
    "from db.games_controller import GamesController\n",
    "\n",
    "from logs_helper import LogsHandler\n",
    "\n",
    "# Just int case\n",
    "from pprint import pprint"
   ]
  },
  {
   "cell_type": "code",
   "execution_count": 2,
   "id": "602c6238-0f1a-48d4-af54-9a80acb7150e",
   "metadata": {},
   "outputs": [],
   "source": [
    "# Class declare (statics)\n",
    "\n",
    "class_const = ClassConstructor()\n",
    "players_controller = PlayersController()\n",
    "clubs_controller = ClubsController()\n",
    "stadiums_controller = StadiumsController()\n",
    "games_controller = GamesController()"
   ]
  },
  {
   "cell_type": "code",
   "execution_count": 3,
   "id": "d7cc9cc6-113d-40d7-8474-26c3fcf98f0d",
   "metadata": {},
   "outputs": [],
   "source": [
    "# Select and transform stadium data into objects\n",
    "\n",
    "stadiums_data = stadiums_controller.select_all_stadiums()\n",
    "stadiums = class_const.stadiums(stadiums_data)"
   ]
  },
  {
   "cell_type": "code",
   "execution_count": 4,
   "id": "c2734cbf-dafa-42de-81bf-8c860cf0a85e",
   "metadata": {},
   "outputs": [],
   "source": [
    "# Select players with contract\n",
    "\n",
    "# get from db\n",
    "p = players_controller.select_players_with_contract('2022') \n",
    "\n",
    "# transform into objects\n",
    "players = class_const.players(p) "
   ]
  },
  {
   "cell_type": "code",
   "execution_count": 5,
   "id": "77f9b526-5eac-4882-96fa-d9164d0d3f70",
   "metadata": {},
   "outputs": [],
   "source": [
    "# Serie A clubs selection & cast\n",
    "\n",
    "serie_a = clubs_controller.select_serie_a_clubs()\n",
    "serie_a_clubs = class_const.clubs(serie_a)\n",
    "serie_a_clubs = class_const.add_players_to_clubs(serie_a_clubs, players)"
   ]
  },
  {
   "cell_type": "code",
   "execution_count": 6,
   "id": "1f38bd58-6b2a-4751-8b78-620162a1d52c",
   "metadata": {},
   "outputs": [],
   "source": [
    "# Set clubs formation\n",
    "\n",
    "class_const.define_formation(serie_a_clubs)"
   ]
  },
  {
   "cell_type": "code",
   "execution_count": 7,
   "id": "3fa4f62b-b470-4ea2-9c16-918548da0551",
   "metadata": {},
   "outputs": [],
   "source": [
    "# Define the clubs matches, this will return a list of lists with two differents teams\n",
    "\n",
    "serie_a_schedule = class_const.define_schedule(serie_a_clubs)"
   ]
  },
  {
   "cell_type": "code",
   "execution_count": 8,
   "id": "28043f9d-8c6a-485b-bc18-eda98df2c242",
   "metadata": {},
   "outputs": [],
   "source": [
    "# Return a list of games object with all the confrontations through the season\n",
    "\n",
    "serie_a_games = class_const.prepare_games(serie_a_schedule, stadiums, 'Campeonato Brasileiro Serie A', 2022)"
   ]
  },
  {
   "cell_type": "code",
   "execution_count": 9,
   "id": "eddcdd37-f613-409b-b44f-04e36b69b711",
   "metadata": {},
   "outputs": [],
   "source": [
    "game = serie_a_games[0]"
   ]
  },
  {
   "cell_type": "code",
   "execution_count": 10,
   "id": "a7a26105-9856-489c-bf41-2dddad1be965",
   "metadata": {},
   "outputs": [
    {
     "data": {
      "text/plain": [
       "{'game_stats': {'América Mineiro': {'home': True,\n",
       "   'goals': 1,\n",
       "   'shots': 5,\n",
       "   'shots on target': 2,\n",
       "   'fouls': 17,\n",
       "   'tackles': 5,\n",
       "   'stolen_balls': 4,\n",
       "   'saves': 4,\n",
       "   'ball possession': 0,\n",
       "   'offsides': 0,\n",
       "   'free kicks': 0,\n",
       "   'penalties': 0},\n",
       "  'Atlético Mineiro': {'home': False,\n",
       "   'goals': 4,\n",
       "   'shots': 12,\n",
       "   'shots on target': 8,\n",
       "   'fouls': 9,\n",
       "   'tackles': 10,\n",
       "   'stolen_balls': 4,\n",
       "   'saves': 1,\n",
       "   'ball possession': 0,\n",
       "   'offsides': 0,\n",
       "   'free kicks': 0,\n",
       "   'penalties': 0}},\n",
       " 'scoreboard': '1 x 4',\n",
       " 'player_stats': {'assists': defaultdict(int,\n",
       "              {Player(Adams Savich): 1, Player(Aimé Wahrer): 1}),\n",
       "  'goals': defaultdict(int,\n",
       "              {Player(Tersio Strean): 2,\n",
       "               Player(Cosmin Mastrud): 1,\n",
       "               Player(Ilia Zaharias): 1,\n",
       "               Player(Merritt Mcgathey): 1}),\n",
       "  'tackles': defaultdict(int,\n",
       "              {Player(Merritt Mcgathey): 3,\n",
       "               Player(Tersio Strean): 5,\n",
       "               Player(Aimé Wahrer): 2,\n",
       "               Player(Lyron Voracek): 2,\n",
       "               Player(Bene Pybus): 1,\n",
       "               Player(Mohammed Keuning): 1,\n",
       "               Player(Fedalto Poinsette): 1}),\n",
       "  'defenses': defaultdict(int,\n",
       "              {Player(Santino Bonamico): 1, Player(Anastasios Diny): 4}),\n",
       "  'dificult_defenses': defaultdict(int, {}),\n",
       "  'clearances': defaultdict(int, {}),\n",
       "  'fouls': defaultdict(int, {}),\n",
       "  'stolen_balls': defaultdict(int,\n",
       "              {Player(Merritt Mcgathey): 1,\n",
       "               Player(Ilia Zaharias): 2,\n",
       "               Player(Cosmin Mastrud): 3,\n",
       "               Player(Eberaldo Mercante): 1,\n",
       "               Player(Raoni Dubea): 1})},\n",
       " 'players': {'home': [Player(Anastasios Diny),\n",
       "   Player(owyang Lafluer),\n",
       "   Player(Benoni Debruycker),\n",
       "   Player(Piraju Punzi),\n",
       "   Player(Feanor Newburry),\n",
       "   Player(Lyron Voracek),\n",
       "   Player(Eberaldo Mercante),\n",
       "   Player(İlyan Throm),\n",
       "   Player(Bene Pybus),\n",
       "   Player(Raoni Dubea),\n",
       "   Player(Ilia Zaharias),\n",
       "   Player(Aimé Wahrer),\n",
       "   Player(Marlon Ginns),\n",
       "   Player(Sami Cowans),\n",
       "   Player(wei Strozeski),\n",
       "   Player(Loui Grosscup)],\n",
       "  'away': [Player(Santino Bonamico),\n",
       "   Player(Demas Perdieu),\n",
       "   Player(Urânia Beining),\n",
       "   Player(Jackson Raskey),\n",
       "   Player(Jaimy Engelsman),\n",
       "   Player(Heli Moeckel),\n",
       "   Player(Adams Savich),\n",
       "   Player(Merritt Mcgathey),\n",
       "   Player(Tersio Strean),\n",
       "   Player(Yuri Balma),\n",
       "   Player(Cosmin Mastrud),\n",
       "   Player(Basil Yorek),\n",
       "   Player(Dzhuneytov Aleman),\n",
       "   Player(Mohammed Keuning),\n",
       "   Player(Zeca Fenne),\n",
       "   Player(Fedalto Poinsette)]},\n",
       " 'others': {'winner': 'Atlético Mineiro',\n",
       "  'loser': 'América Mineiro',\n",
       "  'draw': False,\n",
       "  'home_goals': 1,\n",
       "  'away_goals': 4},\n",
       " 'field': {'location': 'Brazil',\n",
       "  'stadium': 'Rei Pelé Arena',\n",
       "  'audience': 97473,\n",
       "  'conditions': {'season': 2022,\n",
       "   'climate': 'cold',\n",
       "   'weather': 'rainy',\n",
       "   'hour': '18:00'}},\n",
       " 'finances': {'ticket_price': 50,\n",
       "  'ticket_half_price': 25,\n",
       "  'audience_full_price': 74979.0,\n",
       "  'audience_half_price': 22494.0}}"
      ]
     },
     "execution_count": 10,
     "metadata": {},
     "output_type": "execute_result"
    }
   ],
   "source": [
    "game.start()"
   ]
  },
  {
   "cell_type": "code",
   "execution_count": 11,
   "id": "95d59e7d-d189-4523-a19f-84e7f120f845",
   "metadata": {},
   "outputs": [
    {
     "data": {
      "text/plain": [
       "{'América Mineiro': {'home': True,\n",
       "  'goals': 1,\n",
       "  'shots': 5,\n",
       "  'shots on target': 2,\n",
       "  'fouls': 17,\n",
       "  'tackles': 5,\n",
       "  'stolen_balls': 4,\n",
       "  'saves': 4,\n",
       "  'ball possession': 0,\n",
       "  'offsides': 0,\n",
       "  'free kicks': 0,\n",
       "  'penalties': 0},\n",
       " 'Atlético Mineiro': {'home': False,\n",
       "  'goals': 4,\n",
       "  'shots': 12,\n",
       "  'shots on target': 8,\n",
       "  'fouls': 9,\n",
       "  'tackles': 10,\n",
       "  'stolen_balls': 4,\n",
       "  'saves': 1,\n",
       "  'ball possession': 0,\n",
       "  'offsides': 0,\n",
       "  'free kicks': 0,\n",
       "  'penalties': 0}}"
      ]
     },
     "execution_count": 11,
     "metadata": {},
     "output_type": "execute_result"
    }
   ],
   "source": [
    "game.logs['game_stats']"
   ]
  },
  {
   "cell_type": "code",
   "execution_count": 12,
   "id": "6a3fd6c5-87a1-4c65-bb65-246ce2134905",
   "metadata": {},
   "outputs": [
    {
     "data": {
      "text/plain": [
       "{'América Mineiro': {'home': True,\n",
       "  'goals': 1,\n",
       "  'shots': 5,\n",
       "  'shots on target': 2,\n",
       "  'fouls': 17,\n",
       "  'tackles': 5,\n",
       "  'stolen_balls': 4,\n",
       "  'saves': 4,\n",
       "  'ball possession': 0,\n",
       "  'offsides': 0,\n",
       "  'free kicks': 0,\n",
       "  'penalties': 0,\n",
       "  'club_id': 1},\n",
       " 'Atlético Mineiro': {'home': False,\n",
       "  'goals': 4,\n",
       "  'shots': 12,\n",
       "  'shots on target': 8,\n",
       "  'fouls': 9,\n",
       "  'tackles': 10,\n",
       "  'stolen_balls': 4,\n",
       "  'saves': 1,\n",
       "  'ball possession': 0,\n",
       "  'offsides': 0,\n",
       "  'free kicks': 0,\n",
       "  'penalties': 0,\n",
       "  'club_id': 2}}"
      ]
     },
     "execution_count": 12,
     "metadata": {},
     "output_type": "execute_result"
    }
   ],
   "source": [
    "# Testing the game stats handler\n",
    "\n",
    "logs_handler = LogsHandler()\n",
    "\n",
    "logs_handler.get_game_stats(game.logs, game.home, game.away)"
   ]
  },
  {
   "cell_type": "code",
   "execution_count": 13,
   "id": "766ddf80-eb49-49cf-914c-68afd173d56c",
   "metadata": {},
   "outputs": [],
   "source": [
    "# Here we started to insert games into database"
   ]
  },
  {
   "cell_type": "code",
   "execution_count": 14,
   "id": "887cc113-d372-4977-a841-c42079e1d8c8",
   "metadata": {},
   "outputs": [],
   "source": [
    "# Prepare a stats data for game_stats \n",
    "\n",
    "\n",
    "stats_data = logs_handler.prepare_game_stats_logs_to_db(logs_handler.get_game_stats(game.logs, game.home, game.away))"
   ]
  },
  {
   "cell_type": "code",
   "execution_count": 15,
   "id": "e61140b3-3f31-4d2a-8481-8ab26bc57cdd",
   "metadata": {},
   "outputs": [
    {
     "data": {
      "text/plain": [
       "[[1, 5, 2, 17, 5, 4, 4, 0, 0, 0, 0, 1], [4, 12, 8, 9, 10, 4, 1, 0, 0, 0, 0, 2]]"
      ]
     },
     "execution_count": 15,
     "metadata": {},
     "output_type": "execute_result"
    }
   ],
   "source": [
    "stats_data"
   ]
  },
  {
   "cell_type": "code",
   "execution_count": 16,
   "id": "86bc0725-688a-4280-9de5-b3fc1d8798f1",
   "metadata": {
    "scrolled": true
   },
   "outputs": [
    {
     "data": {
      "text/plain": [
       "{'game_stats': {'América Mineiro': {'home': True,\n",
       "   'goals': 1,\n",
       "   'shots': 5,\n",
       "   'shots on target': 2,\n",
       "   'fouls': 17,\n",
       "   'tackles': 5,\n",
       "   'stolen_balls': 4,\n",
       "   'saves': 4,\n",
       "   'ball possession': 0,\n",
       "   'offsides': 0,\n",
       "   'free kicks': 0,\n",
       "   'penalties': 0,\n",
       "   'club_id': 1},\n",
       "  'Atlético Mineiro': {'home': False,\n",
       "   'goals': 4,\n",
       "   'shots': 12,\n",
       "   'shots on target': 8,\n",
       "   'fouls': 9,\n",
       "   'tackles': 10,\n",
       "   'stolen_balls': 4,\n",
       "   'saves': 1,\n",
       "   'ball possession': 0,\n",
       "   'offsides': 0,\n",
       "   'free kicks': 0,\n",
       "   'penalties': 0,\n",
       "   'club_id': 2}},\n",
       " 'scoreboard': '1 x 4',\n",
       " 'player_stats': {'assists': defaultdict(int,\n",
       "              {Player(Adams Savich): 1, Player(Aimé Wahrer): 1}),\n",
       "  'goals': defaultdict(int,\n",
       "              {Player(Tersio Strean): 2,\n",
       "               Player(Cosmin Mastrud): 1,\n",
       "               Player(Ilia Zaharias): 1,\n",
       "               Player(Merritt Mcgathey): 1}),\n",
       "  'tackles': defaultdict(int,\n",
       "              {Player(Merritt Mcgathey): 3,\n",
       "               Player(Tersio Strean): 5,\n",
       "               Player(Aimé Wahrer): 2,\n",
       "               Player(Lyron Voracek): 2,\n",
       "               Player(Bene Pybus): 1,\n",
       "               Player(Mohammed Keuning): 1,\n",
       "               Player(Fedalto Poinsette): 1}),\n",
       "  'defenses': defaultdict(int,\n",
       "              {Player(Santino Bonamico): 1, Player(Anastasios Diny): 4}),\n",
       "  'dificult_defenses': defaultdict(int, {}),\n",
       "  'clearances': defaultdict(int, {}),\n",
       "  'fouls': defaultdict(int, {}),\n",
       "  'stolen_balls': defaultdict(int,\n",
       "              {Player(Merritt Mcgathey): 1,\n",
       "               Player(Ilia Zaharias): 2,\n",
       "               Player(Cosmin Mastrud): 3,\n",
       "               Player(Eberaldo Mercante): 1,\n",
       "               Player(Raoni Dubea): 1})},\n",
       " 'players': {'home': [Player(Anastasios Diny),\n",
       "   Player(owyang Lafluer),\n",
       "   Player(Benoni Debruycker),\n",
       "   Player(Piraju Punzi),\n",
       "   Player(Feanor Newburry),\n",
       "   Player(Lyron Voracek),\n",
       "   Player(Eberaldo Mercante),\n",
       "   Player(İlyan Throm),\n",
       "   Player(Bene Pybus),\n",
       "   Player(Raoni Dubea),\n",
       "   Player(Ilia Zaharias),\n",
       "   Player(Aimé Wahrer),\n",
       "   Player(Marlon Ginns),\n",
       "   Player(Sami Cowans),\n",
       "   Player(wei Strozeski),\n",
       "   Player(Loui Grosscup)],\n",
       "  'away': [Player(Santino Bonamico),\n",
       "   Player(Demas Perdieu),\n",
       "   Player(Urânia Beining),\n",
       "   Player(Jackson Raskey),\n",
       "   Player(Jaimy Engelsman),\n",
       "   Player(Heli Moeckel),\n",
       "   Player(Adams Savich),\n",
       "   Player(Merritt Mcgathey),\n",
       "   Player(Tersio Strean),\n",
       "   Player(Yuri Balma),\n",
       "   Player(Cosmin Mastrud),\n",
       "   Player(Basil Yorek),\n",
       "   Player(Dzhuneytov Aleman),\n",
       "   Player(Mohammed Keuning),\n",
       "   Player(Zeca Fenne),\n",
       "   Player(Fedalto Poinsette)]},\n",
       " 'others': {'winner': 'Atlético Mineiro',\n",
       "  'loser': 'América Mineiro',\n",
       "  'draw': False,\n",
       "  'home_goals': 1,\n",
       "  'away_goals': 4},\n",
       " 'field': {'location': 'Brazil',\n",
       "  'stadium': 'Rei Pelé Arena',\n",
       "  'audience': 97473,\n",
       "  'conditions': {'season': 2022,\n",
       "   'climate': 'cold',\n",
       "   'weather': 'rainy',\n",
       "   'hour': '18:00'}},\n",
       " 'finances': {'ticket_price': 50,\n",
       "  'ticket_half_price': 25,\n",
       "  'audience_full_price': 74979.0,\n",
       "  'audience_half_price': 22494.0}}"
      ]
     },
     "execution_count": 16,
     "metadata": {},
     "output_type": "execute_result"
    }
   ],
   "source": [
    "game.logs"
   ]
  },
  {
   "cell_type": "code",
   "execution_count": 17,
   "id": "a890a7b3-fe92-4e5b-8637-992373023887",
   "metadata": {},
   "outputs": [
    {
     "ename": "TypeError",
     "evalue": "LogsHandler.prepare_championships_logs_to_db() missing 1 required positional argument: 'season'",
     "output_type": "error",
     "traceback": [
      "\u001b[0;31m---------------------------------------------------------------------------\u001b[0m",
      "\u001b[0;31mTypeError\u001b[0m                                 Traceback (most recent call last)",
      "Cell \u001b[0;32mIn[17], line 1\u001b[0m\n\u001b[0;32m----> 1\u001b[0m \u001b[43mlogs_handler\u001b[49m\u001b[38;5;241;43m.\u001b[39;49m\u001b[43mprepare_championships_logs_to_db\u001b[49m\u001b[43m(\u001b[49m\u001b[43mgame\u001b[49m\u001b[38;5;241;43m.\u001b[39;49m\u001b[43mlogs\u001b[49m\u001b[43m,\u001b[49m\u001b[43m \u001b[49m\u001b[43mgame\u001b[49m\u001b[38;5;241;43m.\u001b[39;49m\u001b[43mhome\u001b[49m\u001b[43m)\u001b[49m\n",
      "\u001b[0;31mTypeError\u001b[0m: LogsHandler.prepare_championships_logs_to_db() missing 1 required positional argument: 'season'"
     ]
    }
   ],
   "source": [
    "logs_handler.prepare_championships_logs_to_db(game.logs, game.home)"
   ]
  },
  {
   "cell_type": "code",
   "execution_count": null,
   "id": "2bd6dc0a-22ab-4981-be90-8aceeee257c8",
   "metadata": {},
   "outputs": [],
   "source": [
    "# Insert and get the id from the game stats\n",
    "\n",
    "# s1 = games_controller.insert_game_stat_with_id_return(stats_data[0])"
   ]
  },
  {
   "cell_type": "code",
   "execution_count": null,
   "id": "f74753aa-c7cc-4911-81e8-2f95787c36c1",
   "metadata": {},
   "outputs": [],
   "source": [
    "# Insert and get the id from the game stats\n",
    "\n",
    "# s2 = games_controller.insert_game_stat_with_id_return(stats_data[1])"
   ]
  },
  {
   "cell_type": "code",
   "execution_count": null,
   "id": "c062b554-631a-47e4-822c-e658c77bcb9f",
   "metadata": {},
   "outputs": [],
   "source": [
    "# Get and variable storing the home_game_stats_id & away_game_stats_id\n",
    "\n",
    "game_ids = s1[0][0], s2[0][0]"
   ]
  },
  {
   "cell_type": "code",
   "execution_count": null,
   "id": "ce849ebd-a0fc-43b6-922a-cd27c88b5130",
   "metadata": {},
   "outputs": [],
   "source": [
    "game_ids"
   ]
  },
  {
   "cell_type": "code",
   "execution_count": null,
   "id": "efca6c06-bb23-41a8-9b16-f180d847dee3",
   "metadata": {},
   "outputs": [],
   "source": [
    "# Prepare the game data to insert on tournament.game table\n",
    "\n",
    "prepare_game = logs_handler.prepare_game_logs_to_db(game.logs, game_ids) "
   ]
  },
  {
   "cell_type": "code",
   "execution_count": null,
   "id": "b941ff74-0a8e-41a4-a82b-e7f28dc3da62",
   "metadata": {},
   "outputs": [],
   "source": [
    "prepare_game"
   ]
  },
  {
   "cell_type": "code",
   "execution_count": null,
   "id": "8bec0fa8-55bb-4dfc-86ec-c2ae4874acdf",
   "metadata": {},
   "outputs": [],
   "source": [
    "# Insert the game into the database\n",
    "\n",
    "# games_controller.insert_games_list([prepare_game])"
   ]
  }
 ],
 "metadata": {
  "kernelspec": {
   "display_name": "Python 3 (ipykernel)",
   "language": "python",
   "name": "python3"
  },
  "language_info": {
   "codemirror_mode": {
    "name": "ipython",
    "version": 3
   },
   "file_extension": ".py",
   "mimetype": "text/x-python",
   "name": "python",
   "nbconvert_exporter": "python",
   "pygments_lexer": "ipython3",
   "version": "3.10.12"
  }
 },
 "nbformat": 4,
 "nbformat_minor": 5
}
