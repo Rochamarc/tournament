{
 "cells": [
  {
   "cell_type": "code",
   "execution_count": 1,
   "id": "696b9f54-f247-44da-a2a7-7f8f08b883be",
   "metadata": {},
   "outputs": [],
   "source": [
    "from classes.player import Player"
   ]
  },
  {
   "cell_type": "code",
   "execution_count": 2,
   "id": "a91fccda-bb62-4b62-8b5a-0e8f478001ff",
   "metadata": {},
   "outputs": [],
   "source": [
    "p = Player('Some Name', 'Nationality', 17, 'GK', 70, 1.90, 80, 'Right')"
   ]
  },
  {
   "cell_type": "code",
   "execution_count": 3,
   "id": "c8b9fe8a-5519-4882-9a2c-e99edfb551ef",
   "metadata": {},
   "outputs": [
    {
     "name": "stdout",
     "output_type": "stream",
     "text": [
      "70\n"
     ]
    }
   ],
   "source": [
    "print(p.overall)"
   ]
  },
  {
   "cell_type": "code",
   "execution_count": 4,
   "id": "90eb6491-bfb8-41d6-af20-3e7b29c09425",
   "metadata": {},
   "outputs": [
    {
     "name": "stdout",
     "output_type": "stream",
     "text": [
      "Some Name\n"
     ]
    }
   ],
   "source": [
    "print(p.name)"
   ]
  },
  {
   "cell_type": "code",
   "execution_count": 5,
   "id": "c3e200c6-c3f1-4730-aef3-ddd9c9956ac3",
   "metadata": {},
   "outputs": [],
   "source": [
    "# print(p.avg)"
   ]
  },
  {
   "cell_type": "code",
   "execution_count": 6,
   "id": "e6c6f9d4-09f7-47fd-94f9-c500c3c9ef48",
   "metadata": {},
   "outputs": [
    {
     "name": "stdout",
     "output_type": "stream",
     "text": [
      "1.9\n"
     ]
    }
   ],
   "source": [
    "print(p.height)"
   ]
  },
  {
   "cell_type": "code",
   "execution_count": 7,
   "id": "b7463223-9a36-43b9-a69f-9dc101827525",
   "metadata": {},
   "outputs": [],
   "source": [
    "# print(p.market_value)"
   ]
  },
  {
   "cell_type": "code",
   "execution_count": 8,
   "id": "272399cf-5a6e-47ab-9331-96100fe96a1e",
   "metadata": {},
   "outputs": [],
   "source": [
    "# print(p.salary)"
   ]
  },
  {
   "cell_type": "code",
   "execution_count": null,
   "id": "371e88e4-d396-4b97-a0af-84bb467a38ad",
   "metadata": {},
   "outputs": [],
   "source": []
  }
 ],
 "metadata": {
  "kernelspec": {
   "display_name": "Python 3 (ipykernel)",
   "language": "python",
   "name": "python3"
  },
  "language_info": {
   "codemirror_mode": {
    "name": "ipython",
    "version": 3
   },
   "file_extension": ".py",
   "mimetype": "text/x-python",
   "name": "python",
   "nbconvert_exporter": "python",
   "pygments_lexer": "ipython3",
   "version": "3.8.0"
  }
 },
 "nbformat": 4,
 "nbformat_minor": 5
}
