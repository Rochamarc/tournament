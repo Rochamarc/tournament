{
 "cells": [
  {
   "cell_type": "code",
   "execution_count": 1,
   "id": "6b2945a0-4115-42b3-9354-6939fd2eabda",
   "metadata": {},
   "outputs": [],
   "source": [
    "from helper import ClassConstructor\n",
    "import mysql.connector\n",
    "from db.players_controller import PlayersController\n",
    "from db.clubs_controller import ClubsController"
   ]
  },
  {
   "cell_type": "code",
   "execution_count": 2,
   "id": "e8922975-7b96-4029-bd59-c1f9bc30f88c",
   "metadata": {},
   "outputs": [],
   "source": [
    "cc = ClassConstructor()\n",
    "players_controller = PlayersController()"
   ]
  },
  {
   "cell_type": "code",
   "execution_count": 3,
   "id": "e436d251-e3ff-48ea-86a3-b5b89dd5fb75",
   "metadata": {},
   "outputs": [],
   "source": [
    "p = players_controller.select_players_with_contract('2022')"
   ]
  },
  {
   "cell_type": "code",
   "execution_count": 4,
   "id": "565ecb75-91f1-4db5-bd75-bc64cdc584d4",
   "metadata": {},
   "outputs": [],
   "source": [
    "players = cc.players(p)"
   ]
  },
  {
   "cell_type": "code",
   "execution_count": 5,
   "id": "7d2424b2-af3e-4e26-917d-806f112841a2",
   "metadata": {},
   "outputs": [
    {
     "data": {
      "text/plain": [
       "Player(Juan Cañete)"
      ]
     },
     "execution_count": 5,
     "metadata": {},
     "output_type": "execute_result"
    }
   ],
   "source": [
    "players[0]"
   ]
  },
  {
   "cell_type": "code",
   "execution_count": 6,
   "id": "0dbdc929-54e2-40d4-bf2c-f4ee7e24cbbf",
   "metadata": {},
   "outputs": [],
   "source": [
    "### Testing Clubs Reconstruction"
   ]
  },
  {
   "cell_type": "code",
   "execution_count": 7,
   "id": "4635a7f9-d569-4603-8567-19d56c5a5cbc",
   "metadata": {},
   "outputs": [],
   "source": [
    "clubs_controller = ClubsController()"
   ]
  },
  {
   "cell_type": "code",
   "execution_count": 8,
   "id": "b427c7a4-58a7-41fc-bccf-daa946c742c8",
   "metadata": {},
   "outputs": [],
   "source": [
    "serie_a = clubs_controller.select_serie_a_clubs()"
   ]
  },
  {
   "cell_type": "code",
   "execution_count": 9,
   "id": "49e04b6e-0351-47c7-8187-ec0d0e61b6fb",
   "metadata": {},
   "outputs": [],
   "source": [
    "clubs = cc.clubs(serie_a)"
   ]
  },
  {
   "cell_type": "code",
   "execution_count": 10,
   "id": "d6d0ebf2-f9bb-49dc-8144-ea776fd2f11d",
   "metadata": {},
   "outputs": [
    {
     "data": {
      "text/plain": [
       "Club(América Mineiro)"
      ]
     },
     "execution_count": 10,
     "metadata": {},
     "output_type": "execute_result"
    }
   ],
   "source": [
    "clubs[0]"
   ]
  },
  {
   "cell_type": "code",
   "execution_count": 11,
   "id": "d1c54acc-70ca-4a38-a738-5d2fdb41ef36",
   "metadata": {},
   "outputs": [
    {
     "data": {
      "text/plain": [
       "[]"
      ]
     },
     "execution_count": 11,
     "metadata": {},
     "output_type": "execute_result"
    }
   ],
   "source": [
    "clubs[0].squad"
   ]
  },
  {
   "cell_type": "code",
   "execution_count": 12,
   "id": "11faf015-a651-4e9b-af0c-c7c25282c46b",
   "metadata": {},
   "outputs": [
    {
     "name": "stdout",
     "output_type": "stream",
     "text": [
      "[Player(Juan Cañete), Player(Exequiel dos Santos), Player(Juan Camilo Castro), Player(Aldo de Arrascaeta), Player(Joan Pavón), Player(Iván Calpado), Player(Stiven Guerrero), Player(Diego dos Santos), Player(Paolo Calpado), Player(Guido Aránguiz), Player(Nicolás Izquierdo), Player(José Fontana), Player(Javier Armani), Player(Estefano Maidana), Player(José Caicedo)]\n",
      "[Player(Teófilo Maidana), Player(Alberto Calpado), Player(Tomás Álvarez), Player(Paolo Suarez), Player(Joan de Arrascaeta), Player(Hernán Palavecino), Player(Germán Sampaoli), Player(Fernando Mari), Player(Juan Villa), Player(Jarrinson Pellerano), Player(Leandro Arrascaita), Player(Lucas Ortiz), Player(Teófilo Rojo), Player(Franco Pellerano), Player(Jarrinson Rojas)]\n",
      "[Player(Lucas Castillo), Player(Lucas Sanchez), Player(Hernán Montenegro), Player(Lucas Paredes), Player(Héctor Banguero), Player(Fabio Ribeiro), Player(Joan Orerruella), Player(Stiven Guerrero), Player(Rubén Maidana), Player(Javier Valverde), Player(Alejandro Luján), Player(Paolo Paredes), Player(Francisco Rojo), Player(Lautaro Maidana), Player(Rafael Giampaolli)]\n",
      "[Player(Carmelo Arroyo), Player(Teófilo Diaz), Player(Tomás Arboleda), Player(Paulo Rios), Player(Leandro del Riego), Player(Alfonso Faravelli), Player(Juan Murillo), Player(Didiér Rojo), Player(Teófilo Quintero), Player(Aldo Torres), Player(Rocco Cardozo), Player(Wellington Veron), Player(Miguel Sampaoli), Player(Gustavo Villa), Player(Sebastián Guerrero)]\n",
      "[Player(Exequiel Chávez), Player(Hermán Bologna), Player(Carlito Mari), Player(Rubén Cardozo), Player(Enzo di Maria), Player(Estafan Fabil), Player(Javier dos Santos), Player(Esteban Martinez), Player(Giovani Fuzão), Player(Nehuén Arboleda), Player(Sebastián Zárate), Player(Aldo Cardozo), Player(Alfonso Borré), Player(Juan Pablo Maidana), Player(Leandro Diaz)]\n",
      "[Player(Emiliano Soldano), Player(Guido Arrascaita), Player(Paolo Diaz), Player(Carlito Hurtado), Player(Estefano Álvarez), Player(Juan Camilo Montenegro), Player(Yamir del Toro), Player(Juan Murillo), Player(Eugenio Sampaoli), Player(Yamir De La Cruz), Player(Benicio Sampaoli), Player(Diego Garcia), Player(Fernando Maduro), Player(Juan Pablo Ortiz), Player(Javier Bologna)]\n",
      "[Player(Jorge Mari), Player(Agustin Palavecino), Player(Giovani Torres), Player(Guido Álvarez), Player(Teodoro Gomez), Player(Angelo Pavón), Player(Giovani Frazan), Player(Andrés De La Cruz), Player(Aldo Zárate), Player(Iván Izquierdo), Player(Manuel Nunes), Player(Gustavo dos Santos), Player(Rodrigo Sampaoli), Player(Hernán De La Cruz), Player(Elizeu Correa)]\n",
      "[Player(Alberto Uribe), Player(Santiago Zeballos), Player(Leandro Gomez), Player(Pepeu Guerri), Player(Alejandro Rojo), Player(Javier Fontana), Player(Jorge Caicedo), Player(Ivan de Abreu), Player(Carmelo Viña), Player(Joaquin Soldano), Player(Leandrão Nascimento), Player(Sebastián Uribe), Player(Christian Castillo), Player(Nicolás Orerruella), Player(Diego Maidana)]\n",
      "[Player(Patricio Cañete), Player(Juan Fontana), Player(Anderson Carvalho), Player(Andrés Fontana), Player(Jarrinson Uribe), Player(Aldo Banguero), Player(Patricio Soto), Player(Angel del Riego), Player(Alfonso Vázquez), Player(Ian Nascimento), Player(Teodoro Faravelli), Player(Guido Maduro), Player(Miguel Laranja), Player(Jarrinson dos Santos), Player(Hernán del Riego)]\n",
      "[Player(Aldo Vega), Player(Caco Lysandro), Player(Nehuén Gonzalez), Player(Exequiel Cueva), Player(Vanderlei Mendes), Player(Angelo Mesquita), Player(Paolo Arrascaita), Player(Juan Pablo Armani), Player(Jarrinson Vázquez), Player(Diego Armani), Player(Rubén Castro), Player(Javier Mari), Player(Mariano Fuzão), Player(Juan Camilo Arboleda), Player(Giovani Paredes)]\n",
      "[Player(Tomás Isla), Player(Joaquin Torres), Player(Guillermo Maduro), Player(Angelo Garcia), Player(Andrés Arias), Player(Miguel Soldano), Player(Ronaldo D'avila), Player(Teófilo Gomez), Player(Juan Camilo Orerruella), Player(Franco Suarez), Player(Nicolás Zeballos), Player(Alberto del Toro), Player(Giovani Isla), Player(Nicolás Calpado), Player(Alejandro Plaza)]\n",
      "[Player(Santiago Arboleda), Player(Angel di Maria), Player(Stiven Pellerano), Player(Carmelo Guerrero), Player(Maxi Palavecino), Player(Patricio Viña), Player(Teodoro Sanchez), Player(Francisco Vargas), Player(Marcos Assad), Player(Stiven Pavón), Player(Nicolás Rojas), Player(Jarrinson Paredes), Player(Teófilo Arias), Player(Joan Paredes), Player(Marcos Muniz)]\n",
      "[Player(José di Maria), Player(Hernán Murillo), Player(Estefano Sampaoli), Player(Hermán Hernandez), Player(Enrique Moreno), Player(Omar Hurtado), Player(Otavio Varanda), Player(Nehuén Moreno), Player(Hernán Paredes), Player(Estefano Arboleda), Player(Carlito de Arrascaeta), Player(Fabián Vega), Player(Iván Valverde), Player(Angelo Arroyo), Player(Juan Camilo dos Santos)]\n",
      "[Player(Benicio Giampaolli), Player(Henrique Licurgo), Player(Hernán Arroyo), Player(Fernando Orerruella), Player(Icaro Lemos), Player(Paolo Vázquez), Player(Teófilo Faravelli), Player(Joaquin Rojo), Player(Bernardo Oliveira), Player(Nehuén Martinez), Player(Felipe Veloso), Player(Francisco Hurtado), Player(Tomás Pavón), Player(Jander Lila), Player(Icaro Fernandes)]\n",
      "[Player(David Frazan), Player(Javier Diaz), Player(Alberto Bologna), Player(Germán Zárate), Player(Emiliano dos Santos), Player(Teófilo De La Cruz), Player(Didiér Reinoso), Player(Joaquin Chávez), Player(Gustavo Vivaz), Player(Teodoro Palavecino), Player(Juan Camilo Vega), Player(Fernando Maduro), Player(Paolo Chávez), Player(Manoel Branco), Player(Sebastián Arias)]\n",
      "[Player(Juan Palavecino), Player(Hernán Viña), Player(Omar Arboleda), Player(Joaquin Castro), Player(Miguel Banguero), Player(Rogerinho Falcao), Player(Aldo del Toro), Player(Juan Valverde), Player(Sebastián Valverde), Player(Ian Padrão), Player(Cauan Lisandro), Player(Alberto Pinos), Player(Rafael Reinoso), Player(Carmelo Uribe), Player(João Paulo Cella)]\n",
      "[Player(Silvio Oliveira), Player(Yamir Fontana), Player(Iván Guerrero), Player(Christian Vargas), Player(Luiz Matheus Crespo), Player(Rocco Reinoso), Player(Joaquin Arboleda), Player(Teodoro del Toro), Player(Rodrigo Arroyo), Player(Fernando Reinoso), Player(Guido De La Cruz), Player(Angelo de Arrascaeta), Player(Agustin Zeballos), Player(Diego del Riego), Player(Angel Álvarez)]\n",
      "[Player(Fabián Vargas), Player(Teodoro Villa), Player(Carlos Lysandro), Player(Diego Arias), Player(Rocco Paredes), Player(Carmelo Murillo), Player(Aldo Luján), Player(Hermán Gomez), Player(Miguel Murillo), Player(Guillermo Valverde), Player(Frederico Álvarez), Player(Sebastián Isla), Player(Tomás Pavón), Player(Javier Arroyo), Player(Carmelo di Maria)]\n",
      "[Player(Yamir del Riego), Player(Stiven Villa), Player(Maurilio Alvez), Player(Fabián Quintero), Player(Estefano Hurtado), Player(Esteban di Santoro), Player(Guillermo Montenegro), Player(Adalberto Borges), Player(Paolo Vega), Player(Vilmar Ribeiro), Player(Javier Castro), Player(Hernán Arrascaita), Player(Juan Camilo Giampaolli), Player(Guillermo Castillo), Player(Joaquin Armani)]\n",
      "[Player(Angel de Arrascaeta), Player(Alejandro di Santoro), Player(Giovani Zeballos), Player(Leandro Chávez), Player(Joaquin Arrascaita), Player(Juares Rosa), Player(Germán Arroyo), Player(Juan Camilo Ortiz), Player(Rodrigo Salazar), Player(Lucas Borré), Player(Enrique Arrascaita), Player(Alejandro Pellerano), Player(Omar di Santoro), Player(Alfonso Viña), Player(Esteban Soto)]\n"
     ]
    }
   ],
   "source": [
    "clubs = cc.add_players_to_clubs(clubs, players)"
   ]
  },
  {
   "cell_type": "code",
   "execution_count": 13,
   "id": "818c49d5-b809-470b-8975-c37d0e4b430f",
   "metadata": {},
   "outputs": [
    {
     "data": {
      "text/plain": [
       "[Player(Juan Palavecino),\n",
       " Player(Hernán Viña),\n",
       " Player(Omar Arboleda),\n",
       " Player(Joaquin Castro),\n",
       " Player(Miguel Banguero),\n",
       " Player(Rogerinho Falcao),\n",
       " Player(Aldo del Toro),\n",
       " Player(Juan Valverde),\n",
       " Player(Sebastián Valverde),\n",
       " Player(Ian Padrão),\n",
       " Player(Cauan Lisandro),\n",
       " Player(Alberto Pinos),\n",
       " Player(Rafael Reinoso),\n",
       " Player(Carmelo Uribe),\n",
       " Player(João Paulo Cella)]"
      ]
     },
     "execution_count": 13,
     "metadata": {},
     "output_type": "execute_result"
    }
   ],
   "source": [
    "clubs[15].squad"
   ]
  },
  {
   "cell_type": "code",
   "execution_count": null,
   "id": "406a4a5e-f000-4117-ac19-ce6ed18c1da5",
   "metadata": {},
   "outputs": [],
   "source": []
  }
 ],
 "metadata": {
  "kernelspec": {
   "display_name": "Python 3 (ipykernel)",
   "language": "python",
   "name": "python3"
  },
  "language_info": {
   "codemirror_mode": {
    "name": "ipython",
    "version": 3
   },
   "file_extension": ".py",
   "mimetype": "text/x-python",
   "name": "python",
   "nbconvert_exporter": "python",
   "pygments_lexer": "ipython3",
   "version": "3.10.12"
  }
 },
 "nbformat": 4,
 "nbformat_minor": 5
}
