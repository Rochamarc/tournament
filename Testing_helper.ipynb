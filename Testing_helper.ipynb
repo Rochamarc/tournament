{
 "cells": [
  {
   "cell_type": "code",
   "execution_count": 1,
   "id": "6b2945a0-4115-42b3-9354-6939fd2eabda",
   "metadata": {},
   "outputs": [],
   "source": [
    "from helper import ClassConstructor\n",
    "import mysql.connector\n",
    "from db.players_controller import PlayersController\n",
    "from db.clubs_controller import ClubsController"
   ]
  },
  {
   "cell_type": "code",
   "execution_count": 2,
   "id": "e8922975-7b96-4029-bd59-c1f9bc30f88c",
   "metadata": {},
   "outputs": [],
   "source": [
    "cc = ClassConstructor()\n",
    "players_controller = PlayersController()"
   ]
  },
  {
   "cell_type": "code",
   "execution_count": 3,
   "id": "e436d251-e3ff-48ea-86a3-b5b89dd5fb75",
   "metadata": {},
   "outputs": [],
   "source": [
    "p = players_controller.select_players_with_contract('2022')"
   ]
  },
  {
   "cell_type": "code",
   "execution_count": 4,
   "id": "565ecb75-91f1-4db5-bd75-bc64cdc584d4",
   "metadata": {},
   "outputs": [],
   "source": [
    "players = cc.players(p)"
   ]
  },
  {
   "cell_type": "code",
   "execution_count": 5,
   "id": "7d2424b2-af3e-4e26-917d-806f112841a2",
   "metadata": {},
   "outputs": [
    {
     "data": {
      "text/plain": [
       "Player(Juan Cañete)"
      ]
     },
     "execution_count": 5,
     "metadata": {},
     "output_type": "execute_result"
    }
   ],
   "source": [
    "players[0]"
   ]
  },
  {
   "cell_type": "code",
   "execution_count": 6,
   "id": "0dbdc929-54e2-40d4-bf2c-f4ee7e24cbbf",
   "metadata": {},
   "outputs": [],
   "source": [
    "### Testing Clubs Reconstruction"
   ]
  },
  {
   "cell_type": "code",
   "execution_count": 7,
   "id": "4635a7f9-d569-4603-8567-19d56c5a5cbc",
   "metadata": {},
   "outputs": [],
   "source": [
    "clubs_controller = ClubsController()"
   ]
  },
  {
   "cell_type": "code",
   "execution_count": 8,
   "id": "b427c7a4-58a7-41fc-bccf-daa946c742c8",
   "metadata": {},
   "outputs": [],
   "source": [
    "serie_a = clubs_controller.select_serie_a_clubs()"
   ]
  },
  {
   "cell_type": "code",
   "execution_count": 9,
   "id": "49e04b6e-0351-47c7-8187-ec0d0e61b6fb",
   "metadata": {},
   "outputs": [],
   "source": [
    "clubs = cc.clubs(serie_a)"
   ]
  },
  {
   "cell_type": "code",
   "execution_count": 10,
   "id": "d6d0ebf2-f9bb-49dc-8144-ea776fd2f11d",
   "metadata": {},
   "outputs": [
    {
     "data": {
      "text/plain": [
       "Club(América Mineiro)"
      ]
     },
     "execution_count": 10,
     "metadata": {},
     "output_type": "execute_result"
    }
   ],
   "source": [
    "clubs[0]"
   ]
  },
  {
   "cell_type": "code",
   "execution_count": 11,
   "id": "d1c54acc-70ca-4a38-a738-5d2fdb41ef36",
   "metadata": {},
   "outputs": [
    {
     "data": {
      "text/plain": [
       "[]"
      ]
     },
     "execution_count": 11,
     "metadata": {},
     "output_type": "execute_result"
    }
   ],
   "source": [
    "clubs[0].squad"
   ]
  },
  {
   "cell_type": "code",
   "execution_count": 12,
   "id": "11faf015-a651-4e9b-af0c-c7c25282c46b",
   "metadata": {},
   "outputs": [],
   "source": [
    "clubs = cc.add_players_to_clubs(clubs, players)"
   ]
  },
  {
   "cell_type": "code",
   "execution_count": 13,
   "id": "818c49d5-b809-470b-8975-c37d0e4b430f",
   "metadata": {
    "scrolled": true
   },
   "outputs": [
    {
     "data": {
      "text/plain": [
       "[Player(Juan Palavecino),\n",
       " Player(Exequiel Plaza),\n",
       " Player(Hernán Viña),\n",
       " Player(Germán Valverde),\n",
       " Player(Omar Arboleda),\n",
       " Player(Carmelo Izquierdo),\n",
       " Player(Joaquin Castro),\n",
       " Player(Juan Pablo Calpado),\n",
       " Player(Miguel Banguero),\n",
       " Player(Angel Quintero),\n",
       " Player(Rogerinho Falcao),\n",
       " Player(Frederico Rojas),\n",
       " Player(Aldo del Toro),\n",
       " Player(Gustavo Murillo),\n",
       " Player(Juan Valverde),\n",
       " Player(Yamir Armani),\n",
       " Player(Sebastián Valverde),\n",
       " Player(Juan Pablo del Riego),\n",
       " Player(Ian Padrão),\n",
       " Player(Diego Murillo),\n",
       " Player(Cauan Lisandro),\n",
       " Player(Angel di Santoro),\n",
       " Player(Alberto Pinos),\n",
       " Player(Aldo Cañete),\n",
       " Player(Rafael Reinoso),\n",
       " Player(Christian Borré),\n",
       " Player(Carmelo Uribe),\n",
       " Player(Angelo Sampaoli),\n",
       " Player(João Paulo Cella),\n",
       " Player(Yamir Vega)]"
      ]
     },
     "execution_count": 13,
     "metadata": {},
     "output_type": "execute_result"
    }
   ],
   "source": [
    "clubs[15].squad"
   ]
  },
  {
   "cell_type": "code",
   "execution_count": 14,
   "id": "406a4a5e-f000-4117-ac19-ce6ed18c1da5",
   "metadata": {},
   "outputs": [
    {
     "data": {
      "text/plain": [
       "30"
      ]
     },
     "execution_count": 14,
     "metadata": {},
     "output_type": "execute_result"
    }
   ],
   "source": [
    "len(clubs[3].squad)"
   ]
  },
  {
   "cell_type": "code",
   "execution_count": null,
   "id": "359294c5-4564-4285-8392-768f52d5ce49",
   "metadata": {},
   "outputs": [],
   "source": []
  }
 ],
 "metadata": {
  "kernelspec": {
   "display_name": "Python 3 (ipykernel)",
   "language": "python",
   "name": "python3"
  },
  "language_info": {
   "codemirror_mode": {
    "name": "ipython",
    "version": 3
   },
   "file_extension": ".py",
   "mimetype": "text/x-python",
   "name": "python",
   "nbconvert_exporter": "python",
   "pygments_lexer": "ipython3",
   "version": "3.10.12"
  }
 },
 "nbformat": 4,
 "nbformat_minor": 5
}
