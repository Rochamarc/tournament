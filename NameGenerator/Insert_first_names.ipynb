{
 "cells": [
  {
   "cell_type": "code",
   "execution_count": 1,
   "id": "72cb75d4-37e5-44f8-b45c-6b51fae56f93",
   "metadata": {},
   "outputs": [],
   "source": [
    "from names_controller import NamesController"
   ]
  },
  {
   "cell_type": "code",
   "execution_count": 2,
   "id": "40bfc164-8787-4feb-9c62-3d6b8dee94c3",
   "metadata": {},
   "outputs": [],
   "source": [
    "from file_handler import open_basic_files, open_language_files"
   ]
  },
  {
   "cell_type": "code",
   "execution_count": 3,
   "id": "3e5e4b9f-151f-464e-94ca-02b4bcd31680",
   "metadata": {},
   "outputs": [],
   "source": [
    "# In this case the files/first_names/south_american_names.csv\n",
    "#                & files/first_names/asian_names.csv\n",
    "#                & files/last_names/south_american_names.csv\n",
    "# Have two columns: name and language."
   ]
  },
  {
   "cell_type": "code",
   "execution_count": 4,
   "id": "a8a40430-c887-4770-aa05-3315614e5e54",
   "metadata": {},
   "outputs": [],
   "source": [
    "names_controller = NamesController()"
   ]
  },
  {
   "cell_type": "code",
   "execution_count": 5,
   "id": "197cd348-9ea7-4b43-8a55-3d39898af6d4",
   "metadata": {},
   "outputs": [],
   "source": [
    "# Insert basic files from first names\n",
    "\n",
    "br_names = open_basic_files('first_names','brazilian_names')\n",
    "names_controller.insert_first_names(br_names, 'portuguese br')"
   ]
  },
  {
   "cell_type": "code",
   "execution_count": 6,
   "id": "0f033db2-19d1-47f5-8778-7ac55bd94763",
   "metadata": {},
   "outputs": [],
   "source": [
    "# European first names \n",
    "\n",
    "euro_names = open_basic_files('first_names','european_names')\n",
    "names_controller.insert_first_names(euro_names, 'european')"
   ]
  },
  {
   "cell_type": "code",
   "execution_count": 7,
   "id": "a076a7fb-d385-4db0-a998-ada64a37e3bd",
   "metadata": {},
   "outputs": [],
   "source": [
    "# EUA first names\n",
    "\n",
    "eua_names = open_basic_files('first_names','european_names')\n",
    "names_controller.insert_first_names(eua_names, 'english us')"
   ]
  },
  {
   "cell_type": "code",
   "execution_count": 8,
   "id": "60e48f8d-94c8-4071-baf7-01e0a892ca99",
   "metadata": {
    "scrolled": true
   },
   "outputs": [],
   "source": [
    "# Now the language files\n",
    "# Asian first names\n",
    "\n",
    "asian_names = open_language_files('first_names','asian_names')\n",
    "\n",
    "china = [ name[0] for name in asian_names if name[-1] == 'chinese' ]\n",
    "japan = [ name[0] for name in asian_names if name[-1] == 'japanase' ]\n",
    "korea = [ name[0] for name in asian_names if name[-1] == 'korean' ]\n",
    "\n",
    "names_controller.insert_first_names(china, 'chinese')\n",
    "names_controller.insert_first_names(japan, 'japanse')\n",
    "names_controller.insert_first_names(korea, 'korean')"
   ]
  },
  {
   "cell_type": "code",
   "execution_count": 9,
   "id": "d4b8e3ac-2d07-4aa7-91f4-18c13069491d",
   "metadata": {},
   "outputs": [],
   "source": [
    "# South american first names\n",
    "\n",
    "south_american_names = open_language_files('first_names', 'south_american_names')\n",
    "\n",
    "brazil = [ name[0] for name in south_american_names if name[-1] == 'portuguese' ]\n",
    "spanish = [ name[0] for name in south_american_names if name[-1] == 'spanish' ]\n",
    "\n",
    "names_controller.insert_first_names(brazil, 'portuguese br')\n",
    "names_controller.insert_first_names(spanish, 'spanish')"
   ]
  }
 ],
 "metadata": {
  "kernelspec": {
   "display_name": "Python 3 (ipykernel)",
   "language": "python",
   "name": "python3"
  },
  "language_info": {
   "codemirror_mode": {
    "name": "ipython",
    "version": 3
   },
   "file_extension": ".py",
   "mimetype": "text/x-python",
   "name": "python",
   "nbconvert_exporter": "python",
   "pygments_lexer": "ipython3",
   "version": "3.10.12"
  }
 },
 "nbformat": 4,
 "nbformat_minor": 5
}
