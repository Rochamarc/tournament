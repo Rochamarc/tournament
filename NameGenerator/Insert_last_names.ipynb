{
 "cells": [
  {
   "cell_type": "code",
   "execution_count": 1,
   "id": "59fcd13d-8ea7-4994-8539-6011d7d7b77a",
   "metadata": {},
   "outputs": [],
   "source": [
    "from names_controller import NamesController\n",
    "from file_handler import open_basic_files, open_language_files"
   ]
  },
  {
   "cell_type": "code",
   "execution_count": 3,
   "id": "09af3f86-c94c-4d16-adbb-78031ac1f79f",
   "metadata": {},
   "outputs": [],
   "source": [
    "names_controller = NamesController()"
   ]
  },
  {
   "cell_type": "code",
   "execution_count": 4,
   "id": "2a5beafe-129e-4f27-9484-dabba6dbed5c",
   "metadata": {},
   "outputs": [],
   "source": [
    "# Asian Last Names\n",
    "\n",
    "asian_names = open_basic_files('last_names', 'asian_names')\n",
    "names_controller.insert_last_names(asian_names, None)"
   ]
  },
  {
   "cell_type": "code",
   "execution_count": 5,
   "id": "87ecd64f-348f-4dfa-a888-4ca8dc59a782",
   "metadata": {},
   "outputs": [],
   "source": [
    "# English names\n",
    "\n",
    "eng_names = open_basic_files('last_names', 'english_names')\n",
    "names_controller.insert_last_names(eng_names, 'english')"
   ]
  },
  {
   "cell_type": "code",
   "execution_count": 6,
   "id": "aabe3a94-09e4-4b17-bfa0-f571cbcb0d60",
   "metadata": {},
   "outputs": [],
   "source": [
    "# European names\n",
    "\n",
    "euro_names = open_basic_files('last_names', 'european_names')\n",
    "names_controller.insert_last_names(euro_names, 'european')"
   ]
  },
  {
   "cell_type": "code",
   "execution_count": 7,
   "id": "b9fb6d8b-5051-480d-ab7b-5e370078c1a7",
   "metadata": {},
   "outputs": [],
   "source": [
    "# Hispanic names\n",
    "\n",
    "hispanic_names = open_basic_files('last_names', 'hispanic_names')\n",
    "names_controller.insert_last_names(hispanic_names, 'hispanic')"
   ]
  },
  {
   "cell_type": "code",
   "execution_count": 8,
   "id": "faabca2d-e06e-4ad7-bfe9-425fc6d2029d",
   "metadata": {},
   "outputs": [],
   "source": [
    "# Spanish names\n",
    "\n",
    "spanish_names = open_basic_files('last_names', 'spanish_names')\n",
    "names_controller.insert_last_names(spanish_names, 'spanish')"
   ]
  },
  {
   "cell_type": "code",
   "execution_count": 12,
   "id": "4e67dbb9-3ffa-4541-b2ad-f7cee0852491",
   "metadata": {},
   "outputs": [],
   "source": [
    "# Language file\n",
    "\n",
    "south_american_names = open_language_files('last_names','south_american_names')\n",
    "\n",
    "brazilian = [ name[0] for name in south_american_names if name[-1] == 'portuguese' ]\n",
    "spanish = [ name[0] for name in south_american_names if name[-1] == 'spanish' ]"
   ]
  },
  {
   "cell_type": "code",
   "execution_count": 13,
   "id": "780d4d0d-176c-4bd8-b7b9-cd280ed86155",
   "metadata": {},
   "outputs": [],
   "source": [
    "names_controller.insert_last_names(brazilian, 'portuguese br')\n",
    "names_controller.insert_last_names(spanish, 'spanish')"
   ]
  },
  {
   "cell_type": "code",
   "execution_count": null,
   "id": "1cc4a121-93e9-4399-890e-6814883298cf",
   "metadata": {},
   "outputs": [],
   "source": []
  }
 ],
 "metadata": {
  "kernelspec": {
   "display_name": "Python 3 (ipykernel)",
   "language": "python",
   "name": "python3"
  },
  "language_info": {
   "codemirror_mode": {
    "name": "ipython",
    "version": 3
   },
   "file_extension": ".py",
   "mimetype": "text/x-python",
   "name": "python",
   "nbconvert_exporter": "python",
   "pygments_lexer": "ipython3",
   "version": "3.10.12"
  }
 },
 "nbformat": 4,
 "nbformat_minor": 5
}
