{
 "cells": [
  {
   "cell_type": "code",
   "execution_count": 1,
   "id": "f0828729-2212-4225-844e-2924cdd881de",
   "metadata": {},
   "outputs": [
    {
     "data": {
      "text/plain": [
       "'\\nStructure\\n\\nsort_simple_cup_confronts -> list[list] `this are the ids for home and away teams`\\nclass_const.prepare_games -> list[Game()] `this are my game objects`\\n\\nGame.start()\\n\\ngames_controller.insert_game_stats_with_id_return -> id_home\\ngames_controller.insert_game_stats_with_id_return -> id_away\\n'"
      ]
     },
     "execution_count": 1,
     "metadata": {},
     "output_type": "execute_result"
    }
   ],
   "source": [
    "\"\"\"\n",
    "Structure\n",
    "\n",
    "sort_simple_cup_confronts -> list[list] `this are the ids for home and away teams`\n",
    "class_const.prepare_games -> list[Game()] `this are my game objects`\n",
    "\n",
    "Game.start()\n",
    "\n",
    "games_controller.insert_game_stats_with_id_return -> id_home\n",
    "games_controller.insert_game_stats_with_id_return -> id_away\n",
    "\"\"\""
   ]
  },
  {
   "cell_type": "code",
   "execution_count": 2,
   "id": "9e06e671-1c9d-4534-86ef-15a1c8719c42",
   "metadata": {},
   "outputs": [],
   "source": [
    "from db.championships_controller import ChampionshipsController\n",
    "from db.games_controller import GamesController\n",
    "from db.stadiums_controller import StadiumsController\n",
    "from db.clubs_controller import ClubsController\n",
    "from helper import ClassConstructor\n",
    "from data_manipulation import fomrmulate_clubs_to_simple_cup"
   ]
  },
  {
   "cell_type": "code",
   "execution_count": 3,
   "id": "20fdba12-a77b-4900-936b-cff1aeb2b820",
   "metadata": {},
   "outputs": [],
   "source": [
    "# Declare my controllers\n",
    "\n",
    "cc = ChampionshipsController()\n",
    "gc = GamesController()\n",
    "cl_co = ClassConstructor()\n",
    "sc = StadiumsController()\n",
    "clubs_controller = ClubsController()"
   ]
  },
  {
   "cell_type": "code",
   "execution_count": 4,
   "id": "c8f7972d-83b5-43a6-8f7d-c0cbbab4a4ea",
   "metadata": {},
   "outputs": [],
   "source": [
    "# Select stadiums \n",
    "\n",
    "stadiums_data = sc.select_all_stadiums()\n",
    "stadiums = cl_co.stadiums(stadiums_data)"
   ]
  },
  {
   "cell_type": "code",
   "execution_count": 5,
   "id": "06865bb7-a36e-4de2-a6ab-f5f6cc2f42a6",
   "metadata": {},
   "outputs": [],
   "source": [
    "# Select clubs from serie a\n",
    "\n",
    "a = cc.select_serie_a_cup('2022')"
   ]
  },
  {
   "cell_type": "code",
   "execution_count": 6,
   "id": "80a590f7-427b-43c0-bce8-d24b2c2d5b22",
   "metadata": {},
   "outputs": [],
   "source": [
    "# Select 12 clubs from serie b e c\n",
    "\n",
    "bc = cc.select_serie_b_c_cup('2022')"
   ]
  },
  {
   "cell_type": "code",
   "execution_count": 7,
   "id": "a57b6711-e4d1-4747-81ee-3ef51f46d22e",
   "metadata": {},
   "outputs": [],
   "source": [
    "# Define the manual data from knock_out table\n",
    "\n",
    "season = '2022'\n",
    "phase = 'Round of 32'\n",
    "single_match = False\n",
    "match_number = 1\n",
    "# home_id\n",
    "# away_id\n",
    "# home_game_stats_id\n",
    "# away+game_stats_id\n",
    "competition_id = 3"
   ]
  },
  {
   "cell_type": "code",
   "execution_count": 8,
   "id": "1418fdf8-35de-48cc-814e-44fc796fbadf",
   "metadata": {},
   "outputs": [],
   "source": [
    "# Formulate lists to define confronts\n",
    "\n",
    "conf = fomrmulate_clubs_to_simple_cup(a,bc)"
   ]
  },
  {
   "cell_type": "code",
   "execution_count": 10,
   "id": "8a6bbfba-8068-4e98-8977-4ec3f120efaf",
   "metadata": {},
   "outputs": [],
   "source": [
    "clubs_data = []\n",
    "\n",
    "for i in conf:\n",
    "    clubs_data.append(clubs_controller.select_club_by_id(i)[0])"
   ]
  },
  {
   "cell_type": "code",
   "execution_count": 11,
   "id": "36025eba-3da7-48c6-80fc-355f329bba18",
   "metadata": {
    "scrolled": true
   },
   "outputs": [],
   "source": [
    "clubs = cl_co.clubs(clubs_data)"
   ]
  },
  {
   "cell_type": "code",
   "execution_count": 13,
   "id": "b875a513-b4c5-493b-9306-0fb969faadbb",
   "metadata": {},
   "outputs": [],
   "source": [
    "# List with confronts \n",
    "\n",
    "game_data = cl_co.sort_simple_cup_confronts(clubs)"
   ]
  },
  {
   "cell_type": "code",
   "execution_count": 14,
   "id": "ade88434-3e96-424f-84c0-3ddd2d7f1402",
   "metadata": {},
   "outputs": [
    {
     "data": {
      "text/plain": [
       "[Game(Club(Fluminense) x Club(Floresta)),\n",
       " Game(Club(Ceará) x Club(Atlético Mineiro)),\n",
       " Game(Club(Fortaleza) x Club(Grêmio)),\n",
       " Game(Club(Bahia) x Club(Santos)),\n",
       " Game(Club(Atlético Goianiense) x Club(Sport Recife)),\n",
       " Game(Club(Tombense) x Club(International)),\n",
       " Game(Club(Jacuipense) x Club(São Paulo)),\n",
       " Game(Club(América Mineiro) x Club(Ypiranga)),\n",
       " Game(Club(Goiás) x Club(Confiança)),\n",
       " Game(Club(Red Bull Bragantino) x Club(Remo)),\n",
       " Game(Club(Náutico) x Club(Paraná)),\n",
       " Game(Club(Ferroviário) x Club(Vasco da Gama)),\n",
       " Game(Club(Athletico Paranaense) x Club(Corinthians)),\n",
       " Game(Club(Cuiabá) x Club(Flamengo)),\n",
       " Game(Club(Chapecoense) x Club(Brasil de Pelotas)),\n",
       " Game(Club(Palmeiras) x Club(Juventude))]"
      ]
     },
     "execution_count": 14,
     "metadata": {},
     "output_type": "execute_result"
    }
   ],
   "source": [
    "cl_co.prepare_games(game_data, stadiums, 'Copa do Brasil', 2022)"
   ]
  },
  {
   "cell_type": "code",
   "execution_count": null,
   "id": "8d381352-90d8-4cc6-ac1c-b949a8ec4d0d",
   "metadata": {},
   "outputs": [],
   "source": []
  }
 ],
 "metadata": {
  "kernelspec": {
   "display_name": "Python 3 (ipykernel)",
   "language": "python",
   "name": "python3"
  },
  "language_info": {
   "codemirror_mode": {
    "name": "ipython",
    "version": 3
   },
   "file_extension": ".py",
   "mimetype": "text/x-python",
   "name": "python",
   "nbconvert_exporter": "python",
   "pygments_lexer": "ipython3",
   "version": "3.10.12"
  }
 },
 "nbformat": 4,
 "nbformat_minor": 5
}
