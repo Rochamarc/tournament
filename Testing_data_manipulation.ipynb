{
 "cells": [
  {
   "cell_type": "code",
   "execution_count": 1,
   "id": "4fdabf38-4667-4cb5-b2ae-89eaa5c38712",
   "metadata": {},
   "outputs": [],
   "source": [
    "from data_manipulation import *"
   ]
  },
  {
   "cell_type": "code",
   "execution_count": 2,
   "id": "68286a46-d1e4-420c-90bd-2183d3621294",
   "metadata": {},
   "outputs": [],
   "source": [
    "from db.championship_controller import ChampionshipsController"
   ]
  },
  {
   "cell_type": "code",
   "execution_count": 3,
   "id": "3471d098-51df-4d0f-8b23-65b917271822",
   "metadata": {},
   "outputs": [],
   "source": [
    "cc = ChampionshipsController()"
   ]
  },
  {
   "cell_type": "code",
   "execution_count": 4,
   "id": "2ef4b72d-4d11-455a-80f2-d34ca995487b",
   "metadata": {},
   "outputs": [],
   "source": [
    "# Select and manipulates clubs from serie A of previous season\n",
    "\n",
    "a = cc.select_championships_to_insert('Serie A')\n",
    "a = relegate_serie_a(a, '2023')"
   ]
  },
  {
   "cell_type": "code",
   "execution_count": 5,
   "id": "5dd9db57-0812-40e5-a561-3d18123fbbce",
   "metadata": {},
   "outputs": [],
   "source": [
    "# Select and manipulates clubs from serie B of previous season\n",
    "\n",
    "b = cc.select_championships_to_insert('Serie B')\n",
    "b = relegate_serie_b(b, '2023')"
   ]
  },
  {
   "cell_type": "code",
   "execution_count": 6,
   "id": "02f9b07f-0825-456d-a36a-01b87dbb0dc2",
   "metadata": {},
   "outputs": [],
   "source": [
    "# Select and manipulates clubs from serie C of previous season\n",
    "\n",
    "c = cc.select_championships_to_insert('Serie C')\n",
    "c = relegate_serie_c(c, '2023')"
   ]
  },
  {
   "cell_type": "code",
   "execution_count": 7,
   "id": "ef66bd70-b237-405d-bd49-97a2184401aa",
   "metadata": {},
   "outputs": [],
   "source": [
    "# Serie A \n",
    "\n",
    "serie_a = formulate_clubs_to_championships(a['remains'],b['promoted'], [])"
   ]
  },
  {
   "cell_type": "code",
   "execution_count": 8,
   "id": "ace64564-0137-40e7-b71e-01e4183a20a5",
   "metadata": {},
   "outputs": [],
   "source": [
    "# Next Serie B\n",
    "\n",
    "serie_b = formulate_clubs_to_championships(a['relegated'],b['remains'], c['promoted'])"
   ]
  },
  {
   "cell_type": "code",
   "execution_count": 9,
   "id": "faaa97e9-b467-4137-b858-decd816f2557",
   "metadata": {},
   "outputs": [],
   "source": [
    "# Next Serie C \n",
    "\n",
    "serie_c = formulate_clubs_to_championships(b['relegated'],c['remains'], [])"
   ]
  }
 ],
 "metadata": {
  "kernelspec": {
   "display_name": "Python 3 (ipykernel)",
   "language": "python",
   "name": "python3"
  },
  "language_info": {
   "codemirror_mode": {
    "name": "ipython",
    "version": 3
   },
   "file_extension": ".py",
   "mimetype": "text/x-python",
   "name": "python",
   "nbconvert_exporter": "python",
   "pygments_lexer": "ipython3",
   "version": "3.10.12"
  }
 },
 "nbformat": 4,
 "nbformat_minor": 5
}
